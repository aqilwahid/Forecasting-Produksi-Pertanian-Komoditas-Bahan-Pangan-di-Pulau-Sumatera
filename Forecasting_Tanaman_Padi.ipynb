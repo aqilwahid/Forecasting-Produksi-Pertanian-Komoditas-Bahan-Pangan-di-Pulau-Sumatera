{
  "cells": [
    {
      "cell_type": "code",
      "execution_count": 82,
      "metadata": {
        "id": "nFjXjOcgeydG"
      },
      "outputs": [],
      "source": [
        "# Import library yang diperlukan\n",
        "# from google.colab import drive\n",
        "import os\n",
        "import pandas as pd\n",
        "import numpy as np\n",
        "import matplotlib.pyplot as plt\n",
        "import matplotlib.cm as cm\n",
        "import seaborn as sns\n",
        "from math import sqrt\n",
        "from sklearn.model_selection import train_test_split\n",
        "from sklearn.preprocessing import MinMaxScaler, LabelEncoder\n",
        "from keras.models import Sequential, load_model\n",
        "from keras.layers import Dense, LSTM, Dropout, BatchNormalization\n",
        "from sklearn.metrics import mean_squared_error as mse\n",
        "from tensorflow.keras.callbacks import ModelCheckpoint\n",
        "from tensorflow.keras.losses import MeanSquaredError\n",
        "from tensorflow.keras.metrics import RootMeanSquaredError\n",
        "from tensorflow.keras.optimizers import Adam\n",
        "from tensorflow.keras.callbacks import EarlyStopping, ModelCheckpoint\n",
        "from tqdm.keras import TqdmCallback\n",
        "#ignore warning\n",
        "import warnings\n",
        "warnings.filterwarnings('ignore')"
      ]
    },
    {
      "cell_type": "code",
      "execution_count": 83,
      "metadata": {
        "colab": {
          "base_uri": "https://localhost:8080/"
        },
        "id": "G9xdGXlhfKQf",
        "outputId": "8ad4440f-602b-4429-e4c5-2c28b25743b6"
      },
      "outputs": [],
      "source": [
        "# Mount Google Drive\n",
        "# drive.mount('/content/drive')"
      ]
    },
    {
      "cell_type": "markdown",
      "metadata": {
        "id": "LqLqIFGufN9i"
      },
      "source": [
        "# Import Data"
      ]
    },
    {
      "cell_type": "code",
      "execution_count": 84,
      "metadata": {
        "id": "2BOgEprkfLy7"
      },
      "outputs": [],
      "source": [
        "# Ganti 'nama_file.csv' dengan nama file CSV yang ingin Anda baca\n",
        "# nama_file = '/content/drive/MyDrive/UTY/Semester 7/Data Science/Seminar Nasional/Data_Tanaman_Padi_Sumatera_version_1.csv'\n",
        "nama_file = './Dataset/Data_Tanaman_Padi_Sumatera_version_1.csv'\n",
        "# Membaca file CSV dan menyimpannya dalam bentuk DataFrame\n",
        "df = pd.read_csv(nama_file, delimiter = ',')\n",
        "df_copy = df.copy()"
      ]
    },
    {
      "cell_type": "markdown",
      "metadata": {
        "id": "-I_UjMgid7p2"
      },
      "source": [
        "# Data Exploration"
      ]
    },
    {
      "cell_type": "code",
      "execution_count": 85,
      "metadata": {
        "colab": {
          "base_uri": "https://localhost:8080/",
          "height": 206
        },
        "id": "EQ93w71egMQj",
        "outputId": "afa8f576-4e6b-48cf-867f-b5197650e9f8"
      },
      "outputs": [
        {
          "data": {
            "text/html": [
              "<div>\n",
              "<style scoped>\n",
              "    .dataframe tbody tr th:only-of-type {\n",
              "        vertical-align: middle;\n",
              "    }\n",
              "\n",
              "    .dataframe tbody tr th {\n",
              "        vertical-align: top;\n",
              "    }\n",
              "\n",
              "    .dataframe thead th {\n",
              "        text-align: right;\n",
              "    }\n",
              "</style>\n",
              "<table border=\"1\" class=\"dataframe\">\n",
              "  <thead>\n",
              "    <tr style=\"text-align: right;\">\n",
              "      <th></th>\n",
              "      <th>Provinsi</th>\n",
              "      <th>Tahun</th>\n",
              "      <th>Produksi</th>\n",
              "      <th>Luas Panen</th>\n",
              "      <th>Curah hujan</th>\n",
              "      <th>Kelembapan</th>\n",
              "      <th>Suhu rata-rata</th>\n",
              "    </tr>\n",
              "  </thead>\n",
              "  <tbody>\n",
              "    <tr>\n",
              "      <th>0</th>\n",
              "      <td>Aceh</td>\n",
              "      <td>1993</td>\n",
              "      <td>1329536.0</td>\n",
              "      <td>323589.0</td>\n",
              "      <td>1627.0</td>\n",
              "      <td>82.00</td>\n",
              "      <td>26.06</td>\n",
              "    </tr>\n",
              "    <tr>\n",
              "      <th>1</th>\n",
              "      <td>Aceh</td>\n",
              "      <td>1994</td>\n",
              "      <td>1299699.0</td>\n",
              "      <td>329041.0</td>\n",
              "      <td>1521.0</td>\n",
              "      <td>82.12</td>\n",
              "      <td>26.92</td>\n",
              "    </tr>\n",
              "    <tr>\n",
              "      <th>2</th>\n",
              "      <td>Aceh</td>\n",
              "      <td>1995</td>\n",
              "      <td>1382905.0</td>\n",
              "      <td>339253.0</td>\n",
              "      <td>1476.0</td>\n",
              "      <td>82.72</td>\n",
              "      <td>26.27</td>\n",
              "    </tr>\n",
              "    <tr>\n",
              "      <th>3</th>\n",
              "      <td>Aceh</td>\n",
              "      <td>1996</td>\n",
              "      <td>1419128.0</td>\n",
              "      <td>348223.0</td>\n",
              "      <td>1557.0</td>\n",
              "      <td>83.00</td>\n",
              "      <td>26.08</td>\n",
              "    </tr>\n",
              "    <tr>\n",
              "      <th>4</th>\n",
              "      <td>Aceh</td>\n",
              "      <td>1997</td>\n",
              "      <td>1368074.0</td>\n",
              "      <td>337561.0</td>\n",
              "      <td>1339.0</td>\n",
              "      <td>82.46</td>\n",
              "      <td>26.31</td>\n",
              "    </tr>\n",
              "  </tbody>\n",
              "</table>\n",
              "</div>"
            ],
            "text/plain": [
              "  Provinsi  Tahun   Produksi  Luas Panen  Curah hujan  Kelembapan  \\\n",
              "0     Aceh   1993  1329536.0    323589.0       1627.0       82.00   \n",
              "1     Aceh   1994  1299699.0    329041.0       1521.0       82.12   \n",
              "2     Aceh   1995  1382905.0    339253.0       1476.0       82.72   \n",
              "3     Aceh   1996  1419128.0    348223.0       1557.0       83.00   \n",
              "4     Aceh   1997  1368074.0    337561.0       1339.0       82.46   \n",
              "\n",
              "   Suhu rata-rata  \n",
              "0           26.06  \n",
              "1           26.92  \n",
              "2           26.27  \n",
              "3           26.08  \n",
              "4           26.31  "
            ]
          },
          "execution_count": 85,
          "metadata": {},
          "output_type": "execute_result"
        }
      ],
      "source": [
        "df.head()"
      ]
    },
    {
      "cell_type": "code",
      "execution_count": 86,
      "metadata": {
        "colab": {
          "base_uri": "https://localhost:8080/"
        },
        "id": "W20mMug7dTyb",
        "outputId": "353be842-e56c-4267-8d47-696c3165b406"
      },
      "outputs": [
        {
          "name": "stdout",
          "output_type": "stream",
          "text": [
            "Dataset memiliki 224 baris dan 7 kolom\n"
          ]
        }
      ],
      "source": [
        "print(f'Dataset memiliki {df.shape[0]} baris dan {df.shape[1]} kolom' )"
      ]
    },
    {
      "cell_type": "code",
      "execution_count": 87,
      "metadata": {},
      "outputs": [
        {
          "data": {
            "image/png": "[encoded data removed]",
            "text/plain": [
              "<Figure size 648x648 with 4 Axes>"
            ]
          },
          "metadata": {
            "needs_background": "light"
          },
          "output_type": "display_data"
        }
      ],
      "source": [
        "fig, axes = plt.subplots(2, 2, figsize=(9, 9))\n",
        "\n",
        "# Hubungan antara luas panen dan produksi padi\n",
        "sns.regplot(ax=axes[0, 0], x=df['Luas Panen'], y=df['Produksi'], scatter_kws={'alpha':0.5}, line_kws={'color':'green'})\n",
        "axes[0, 0].set_title('Luas Panen vs Produksi Padi')\n",
        "axes[0, 0].set_xlabel('Luas Panen (hektar)')\n",
        "axes[0, 0].set_ylabel('Produksi Padi (ton)')\n",
        "axes[0, 0].tick_params(labelsize=8)\n",
        "\n",
        "# Hubungan antara curah hujan dan produksi padi\n",
        "sns.regplot(ax=axes[0, 1], x='Curah hujan', y='Produksi', data=df, scatter_kws={'alpha':0.5}, line_kws={'color':'red'})\n",
        "axes[0, 1].set_title('Curah Hujan vs Produksi Padi')\n",
        "axes[0, 1].set_xlabel('Curah Hujan (mm)')\n",
        "axes[0, 1].set_ylabel('Produksi Padi (ton)')\n",
        "axes[0, 1].tick_params(labelsize=8)\n",
        "\n",
        "# Hubungan antara kelembapan dan produksi padi\n",
        "sns.regplot(ax=axes[1, 0], x=df['Kelembapan'], y=df['Produksi'], scatter_kws={'alpha':0.5}, line_kws={'color':'blue'})\n",
        "axes[1, 0].set_title('Kelembapan vs Produksi Padi')\n",
        "axes[1, 0].set_xlabel('Kelembapan (%)')\n",
        "axes[1, 0].set_ylabel('Produksi Padi (ton)')\n",
        "axes[1, 0].tick_params(labelsize=8)\n",
        "\n",
        "# Hubungan antara suhu rata-rata dan produksi padi\n",
        "sns.regplot(ax=axes[1, 1], x=df['Suhu rata-rata'], y=df['Produksi'], scatter_kws={'alpha':0.5}, line_kws={'color':'purple'})\n",
        "axes[1, 1].set_title('Suhu Rata-rata vs Produksi Padi')\n",
        "axes[1, 1].set_xlabel('Suhu Rata-rata (°C)')\n",
        "axes[1, 1].set_ylabel('Produksi Padi (ton)')\n",
        "axes[1, 1].tick_params(labelsize=8)\n",
        "\n",
        "plt.tight_layout()\n",
        "plt.show()"
      ]
    },
    {
      "cell_type": "markdown",
      "metadata": {},
      "source": [
        "Gabungan visualisasi tersebut kini mencakup hubungan antara curah hujan dan produksi padi serta faktor-faktor yang telah dibahas sebelumnya:\n",
        "- Luas Panen dan Produksi Padi: Korelasi positif antara luas panen dan produksi menunjukkan bahwa peningkatan luas tanam padi dapat meningkatkan produksi secara keseluruhan.\n",
        "- Curah Hujan dan Produksi Beras: Penambahan plot hubungan curah hujan memperkuat korelasi positif antara curah hujan dan produksi beras, yang menunjukkan bahwa pasokan air yang cukup dari curah hujan bermanfaat bagi hasil panen padi.\n",
        "- Kelembapan dan Produksi Beras: Keberagaman dalam hubungan antara kelembapan dan produksi menunjukkan bahwa kelembapan saja bukan merupakan prediktor yang kuat terhadap tingkat produksi, kemungkinan besar disebabkan oleh kemampuan adaptasi beras terhadap tingkat kelembapan yang berbeda.\n",
        "- Suhu Rata-rata dan Produksi Beras: Hubungan antara suhu dan produksi nampaknya lemah, hal ini menunjukkan bahwa dalam kisaran suhu yang diamati, produksi beras tidak terlalu sensitif terhadap variasi suhu di Sumatera.\n",
        "\n",
        "Secara keseluruhan, visualisasi ini memberikan gambaran komprehensif tentang bagaimana berbagai faktor lingkungan berkorelasi dengan produksi padi di Sumatera. Curah hujan yang cukup dan lahan pertanian yang cukup tampaknya menjadi faktor kunci dalam memaksimalkan hasil panen padi, sementara kelembapan dan suhu dalam kisaran normal di wilayah tersebut mempunyai pengaruh yang kurang jelas. Wawasan ini dapat menjadi masukan bagi kebijakan pertanian yang berfokus pada pengelolaan air, penggunaan lahan, dan strategi adaptasi iklim."
      ]
    },
    {
      "cell_type": "code",
      "execution_count": 88,
      "metadata": {},
      "outputs": [
        {
          "data": {
            "text/html": [
              "<div>\n",
              "<style scoped>\n",
              "    .dataframe tbody tr th:only-of-type {\n",
              "        vertical-align: middle;\n",
              "    }\n",
              "\n",
              "    .dataframe tbody tr th {\n",
              "        vertical-align: top;\n",
              "    }\n",
              "\n",
              "    .dataframe thead th {\n",
              "        text-align: right;\n",
              "    }\n",
              "</style>\n",
              "<table border=\"1\" class=\"dataframe\">\n",
              "  <thead>\n",
              "    <tr style=\"text-align: right;\">\n",
              "      <th></th>\n",
              "      <th>Tahun</th>\n",
              "      <th>Produksi</th>\n",
              "      <th>Luas Panen</th>\n",
              "      <th>Curah hujan</th>\n",
              "      <th>Kelembapan</th>\n",
              "      <th>Suhu rata-rata</th>\n",
              "    </tr>\n",
              "  </thead>\n",
              "  <tbody>\n",
              "    <tr>\n",
              "      <th>count</th>\n",
              "      <td>224.000000</td>\n",
              "      <td>2.240000e+02</td>\n",
              "      <td>224.000000</td>\n",
              "      <td>224.000000</td>\n",
              "      <td>224.000000</td>\n",
              "      <td>224.000000</td>\n",
              "    </tr>\n",
              "    <tr>\n",
              "      <th>mean</th>\n",
              "      <td>2006.500000</td>\n",
              "      <td>1.679701e+06</td>\n",
              "      <td>374349.966920</td>\n",
              "      <td>2452.490759</td>\n",
              "      <td>80.948705</td>\n",
              "      <td>26.801964</td>\n",
              "    </tr>\n",
              "    <tr>\n",
              "      <th>std</th>\n",
              "      <td>8.095838</td>\n",
              "      <td>1.161387e+06</td>\n",
              "      <td>232751.161987</td>\n",
              "      <td>1031.972625</td>\n",
              "      <td>4.878680</td>\n",
              "      <td>1.197041</td>\n",
              "    </tr>\n",
              "    <tr>\n",
              "      <th>min</th>\n",
              "      <td>1993.000000</td>\n",
              "      <td>4.293800e+04</td>\n",
              "      <td>63142.040000</td>\n",
              "      <td>222.500000</td>\n",
              "      <td>54.200000</td>\n",
              "      <td>22.190000</td>\n",
              "    </tr>\n",
              "    <tr>\n",
              "      <th>25%</th>\n",
              "      <td>1999.750000</td>\n",
              "      <td>5.488570e+05</td>\n",
              "      <td>146919.500000</td>\n",
              "      <td>1703.525000</td>\n",
              "      <td>78.975000</td>\n",
              "      <td>26.177500</td>\n",
              "    </tr>\n",
              "    <tr>\n",
              "      <th>50%</th>\n",
              "      <td>2006.500000</td>\n",
              "      <td>1.667773e+06</td>\n",
              "      <td>373551.500000</td>\n",
              "      <td>2315.700000</td>\n",
              "      <td>82.375000</td>\n",
              "      <td>26.730000</td>\n",
              "    </tr>\n",
              "    <tr>\n",
              "      <th>75%</th>\n",
              "      <td>2013.250000</td>\n",
              "      <td>2.436851e+06</td>\n",
              "      <td>514570.250000</td>\n",
              "      <td>3039.700000</td>\n",
              "      <td>84.000000</td>\n",
              "      <td>27.200000</td>\n",
              "    </tr>\n",
              "    <tr>\n",
              "      <th>max</th>\n",
              "      <td>2020.000000</td>\n",
              "      <td>4.881089e+06</td>\n",
              "      <td>872737.000000</td>\n",
              "      <td>5522.000000</td>\n",
              "      <td>90.600000</td>\n",
              "      <td>29.850000</td>\n",
              "    </tr>\n",
              "  </tbody>\n",
              "</table>\n",
              "</div>"
            ],
            "text/plain": [
              "             Tahun      Produksi     Luas Panen  Curah hujan  Kelembapan  \\\n",
              "count   224.000000  2.240000e+02     224.000000   224.000000  224.000000   \n",
              "mean   2006.500000  1.679701e+06  374349.966920  2452.490759   80.948705   \n",
              "std       8.095838  1.161387e+06  232751.161987  1031.972625    4.878680   \n",
              "min    1993.000000  4.293800e+04   63142.040000   222.500000   54.200000   \n",
              "25%    1999.750000  5.488570e+05  146919.500000  1703.525000   78.975000   \n",
              "50%    2006.500000  1.667773e+06  373551.500000  2315.700000   82.375000   \n",
              "75%    2013.250000  2.436851e+06  514570.250000  3039.700000   84.000000   \n",
              "max    2020.000000  4.881089e+06  872737.000000  5522.000000   90.600000   \n",
              "\n",
              "       Suhu rata-rata  \n",
              "count      224.000000  \n",
              "mean        26.801964  \n",
              "std          1.197041  \n",
              "min         22.190000  \n",
              "25%         26.177500  \n",
              "50%         26.730000  \n",
              "75%         27.200000  \n",
              "max         29.850000  "
            ]
          },
          "execution_count": 88,
          "metadata": {},
          "output_type": "execute_result"
        }
      ],
      "source": [
        "df.describe()"
      ]
    },
    {
      "cell_type": "code",
      "execution_count": 89,
      "metadata": {
        "colab": {
          "base_uri": "https://localhost:8080/"
        },
        "id": "wR5tAHShdU-h",
        "outputId": "f8530bdb-82a2-4cbf-ffdf-40eb6b8bb399"
      },
      "outputs": [
        {
          "name": "stdout",
          "output_type": "stream",
          "text": [
            "<class 'pandas.core.frame.DataFrame'>\n",
            "RangeIndex: 224 entries, 0 to 223\n",
            "Data columns (total 7 columns):\n",
            " #   Column          Non-Null Count  Dtype  \n",
            "---  ------          --------------  -----  \n",
            " 0   Provinsi        224 non-null    object \n",
            " 1   Tahun           224 non-null    int64  \n",
            " 2   Produksi        224 non-null    float64\n",
            " 3   Luas Panen      224 non-null    float64\n",
            " 4   Curah hujan     224 non-null    float64\n",
            " 5   Kelembapan      224 non-null    float64\n",
            " 6   Suhu rata-rata  224 non-null    float64\n",
            "dtypes: float64(5), int64(1), object(1)\n",
            "memory usage: 12.4+ KB\n"
          ]
        }
      ],
      "source": [
        "df.info()"
      ]
    },
    {
      "cell_type": "code",
      "execution_count": 90,
      "metadata": {
        "colab": {
          "base_uri": "https://localhost:8080/",
          "height": 269
        },
        "id": "7Tv0plwadudu",
        "outputId": "ce937e34-f133-4b1d-b178-a25379fca88d"
      },
      "outputs": [
        {
          "data": {
            "text/html": [
              "<div>\n",
              "<style scoped>\n",
              "    .dataframe tbody tr th:only-of-type {\n",
              "        vertical-align: middle;\n",
              "    }\n",
              "\n",
              "    .dataframe tbody tr th {\n",
              "        vertical-align: top;\n",
              "    }\n",
              "\n",
              "    .dataframe thead th {\n",
              "        text-align: right;\n",
              "    }\n",
              "</style>\n",
              "<table border=\"1\" class=\"dataframe\">\n",
              "  <thead>\n",
              "    <tr style=\"text-align: right;\">\n",
              "      <th></th>\n",
              "      <th>Data Kosong</th>\n",
              "      <th>Data Duplikat</th>\n",
              "      <th>Data NaNN</th>\n",
              "      <th>Type Data</th>\n",
              "    </tr>\n",
              "  </thead>\n",
              "  <tbody>\n",
              "    <tr>\n",
              "      <th>Provinsi</th>\n",
              "      <td>0</td>\n",
              "      <td>0</td>\n",
              "      <td>0</td>\n",
              "      <td>object</td>\n",
              "    </tr>\n",
              "    <tr>\n",
              "      <th>Tahun</th>\n",
              "      <td>0</td>\n",
              "      <td>0</td>\n",
              "      <td>0</td>\n",
              "      <td>int64</td>\n",
              "    </tr>\n",
              "    <tr>\n",
              "      <th>Produksi</th>\n",
              "      <td>0</td>\n",
              "      <td>0</td>\n",
              "      <td>0</td>\n",
              "      <td>float64</td>\n",
              "    </tr>\n",
              "    <tr>\n",
              "      <th>Luas Panen</th>\n",
              "      <td>0</td>\n",
              "      <td>0</td>\n",
              "      <td>0</td>\n",
              "      <td>float64</td>\n",
              "    </tr>\n",
              "    <tr>\n",
              "      <th>Curah hujan</th>\n",
              "      <td>0</td>\n",
              "      <td>0</td>\n",
              "      <td>0</td>\n",
              "      <td>float64</td>\n",
              "    </tr>\n",
              "    <tr>\n",
              "      <th>Kelembapan</th>\n",
              "      <td>0</td>\n",
              "      <td>0</td>\n",
              "      <td>0</td>\n",
              "      <td>float64</td>\n",
              "    </tr>\n",
              "    <tr>\n",
              "      <th>Suhu rata-rata</th>\n",
              "      <td>0</td>\n",
              "      <td>0</td>\n",
              "      <td>0</td>\n",
              "      <td>float64</td>\n",
              "    </tr>\n",
              "  </tbody>\n",
              "</table>\n",
              "</div>"
            ],
            "text/plain": [
              "                Data Kosong  Data Duplikat  Data NaNN Type Data\n",
              "Provinsi                  0              0          0    object\n",
              "Tahun                     0              0          0     int64\n",
              "Produksi                  0              0          0   float64\n",
              "Luas Panen                0              0          0   float64\n",
              "Curah hujan               0              0          0   float64\n",
              "Kelembapan                0              0          0   float64\n",
              "Suhu rata-rata            0              0          0   float64"
            ]
          },
          "execution_count": 90,
          "metadata": {},
          "output_type": "execute_result"
        }
      ],
      "source": [
        "cek = pd.DataFrame({\n",
        "    'Data Kosong': df.isnull().sum(),\n",
        "    'Data Duplikat': df.duplicated().sum(),\n",
        "    'Data NaNN': df.isna().sum(),\n",
        "    'Type Data': df.dtypes\n",
        "})\n",
        "\n",
        "cek"
      ]
    },
    {
      "cell_type": "code",
      "execution_count": 91,
      "metadata": {
        "colab": {
          "base_uri": "https://localhost:8080/",
          "height": 294
        },
        "id": "S0C5MPFxdwBI",
        "outputId": "5eae5b58-33ee-43e3-e577-89bafc88c884"
      },
      "outputs": [
        {
          "data": {
            "text/html": [
              "<div>\n",
              "<style scoped>\n",
              "    .dataframe tbody tr th:only-of-type {\n",
              "        vertical-align: middle;\n",
              "    }\n",
              "\n",
              "    .dataframe tbody tr th {\n",
              "        vertical-align: top;\n",
              "    }\n",
              "\n",
              "    .dataframe thead th {\n",
              "        text-align: right;\n",
              "    }\n",
              "</style>\n",
              "<table border=\"1\" class=\"dataframe\">\n",
              "  <thead>\n",
              "    <tr style=\"text-align: right;\">\n",
              "      <th></th>\n",
              "      <th>Tahun</th>\n",
              "      <th>Produksi</th>\n",
              "      <th>Luas Panen</th>\n",
              "      <th>Curah hujan</th>\n",
              "      <th>Kelembapan</th>\n",
              "      <th>Suhu rata-rata</th>\n",
              "    </tr>\n",
              "  </thead>\n",
              "  <tbody>\n",
              "    <tr>\n",
              "      <th>Tahun</th>\n",
              "      <td>1.000000</td>\n",
              "      <td>0.182527</td>\n",
              "      <td>-0.045951</td>\n",
              "      <td>-0.047645</td>\n",
              "      <td>-0.033474</td>\n",
              "      <td>0.004923</td>\n",
              "    </tr>\n",
              "    <tr>\n",
              "      <th>Produksi</th>\n",
              "      <td>0.182527</td>\n",
              "      <td>1.000000</td>\n",
              "      <td>0.905622</td>\n",
              "      <td>-0.042129</td>\n",
              "      <td>-0.052316</td>\n",
              "      <td>0.041160</td>\n",
              "    </tr>\n",
              "    <tr>\n",
              "      <th>Luas Panen</th>\n",
              "      <td>-0.045951</td>\n",
              "      <td>0.905622</td>\n",
              "      <td>1.000000</td>\n",
              "      <td>-0.092975</td>\n",
              "      <td>-0.061121</td>\n",
              "      <td>0.115726</td>\n",
              "    </tr>\n",
              "    <tr>\n",
              "      <th>Curah hujan</th>\n",
              "      <td>-0.047645</td>\n",
              "      <td>-0.042129</td>\n",
              "      <td>-0.092975</td>\n",
              "      <td>1.000000</td>\n",
              "      <td>0.056466</td>\n",
              "      <td>-0.228699</td>\n",
              "    </tr>\n",
              "    <tr>\n",
              "      <th>Kelembapan</th>\n",
              "      <td>-0.033474</td>\n",
              "      <td>-0.052316</td>\n",
              "      <td>-0.061121</td>\n",
              "      <td>0.056466</td>\n",
              "      <td>1.000000</td>\n",
              "      <td>-0.407799</td>\n",
              "    </tr>\n",
              "    <tr>\n",
              "      <th>Suhu rata-rata</th>\n",
              "      <td>0.004923</td>\n",
              "      <td>0.041160</td>\n",
              "      <td>0.115726</td>\n",
              "      <td>-0.228699</td>\n",
              "      <td>-0.407799</td>\n",
              "      <td>1.000000</td>\n",
              "    </tr>\n",
              "  </tbody>\n",
              "</table>\n",
              "</div>"
            ],
            "text/plain": [
              "                   Tahun  Produksi  Luas Panen  Curah hujan  Kelembapan  \\\n",
              "Tahun           1.000000  0.182527   -0.045951    -0.047645   -0.033474   \n",
              "Produksi        0.182527  1.000000    0.905622    -0.042129   -0.052316   \n",
              "Luas Panen     -0.045951  0.905622    1.000000    -0.092975   -0.061121   \n",
              "Curah hujan    -0.047645 -0.042129   -0.092975     1.000000    0.056466   \n",
              "Kelembapan     -0.033474 -0.052316   -0.061121     0.056466    1.000000   \n",
              "Suhu rata-rata  0.004923  0.041160    0.115726    -0.228699   -0.407799   \n",
              "\n",
              "                Suhu rata-rata  \n",
              "Tahun                 0.004923  \n",
              "Produksi              0.041160  \n",
              "Luas Panen            0.115726  \n",
              "Curah hujan          -0.228699  \n",
              "Kelembapan           -0.407799  \n",
              "Suhu rata-rata        1.000000  "
            ]
          },
          "execution_count": 91,
          "metadata": {},
          "output_type": "execute_result"
        }
      ],
      "source": [
        "df.corr()"
      ]
    },
    {
      "cell_type": "code",
      "execution_count": 92,
      "metadata": {
        "colab": {
          "base_uri": "https://localhost:8080/",
          "height": 542
        },
        "id": "MHL8pcb0dzSz",
        "outputId": "95b52ebb-1674-498b-9d40-cabb39af001f"
      },
      "outputs": [
        {
          "data": {
            "image/png": "[encoded data removed]",
            "text/plain": [
              "<Figure size 720x360 with 1 Axes>"
            ]
          },
          "metadata": {
            "needs_background": "light"
          },
          "output_type": "display_data"
        }
      ],
      "source": [
        "df['Panen'] = df['Produksi'] / df['Luas Panen']\n",
        "\n",
        "plt.figure(figsize=(10, 5))\n",
        "average_Panen_by_province = df.groupby('Provinsi')['Panen'].mean().sort_values(ascending=False)\n",
        "sns.barplot(x=average_Panen_by_province.index, y=average_Panen_by_province.values, palette=\"mako\")\n",
        "plt.title('Average Rice Panen by Province in Sumatra')\n",
        "plt.xlabel('Province')\n",
        "plt.ylabel('Average Panen (tons per hectare)')\n",
        "plt.xticks(rotation=45)\n",
        "plt.tight_layout()\n",
        "\n",
        "plt.show()"
      ]
    },
    {
      "cell_type": "code",
      "execution_count": 93,
      "metadata": {
        "colab": {
          "base_uri": "https://localhost:8080/",
          "height": 542
        },
        "id": "D_AJOPXqd1tx",
        "outputId": "950c2aa6-edfd-42d6-a389-c606ea08f63f"
      },
      "outputs": [
        {
          "data": {
            "image/png": "[encoded data removed]",
            "text/plain": [
              "<Figure size 720x360 with 1 Axes>"
            ]
          },
          "metadata": {
            "needs_background": "light"
          },
          "output_type": "display_data"
        }
      ],
      "source": [
        "plt.figure(figsize=(10, 5))\n",
        "sns.lineplot(x='Tahun', y='Produksi', hue='Provinsi', data=df, marker='o')\n",
        "plt.title('Trend of Rice Production Over the Years by Province in Sumatra')\n",
        "plt.xlabel('Year')\n",
        "plt.ylabel('Rice Production (tons)')\n",
        "plt.legend(title='Province', bbox_to_anchor=(1.05, 1), loc='upper left')\n",
        "plt.xticks(rotation=45)\n",
        "plt.tight_layout()\n",
        "\n",
        "plt.show()"
      ]
    },
    {
      "cell_type": "markdown",
      "metadata": {},
      "source": [
        "# Preprocessing"
      ]
    },
    {
      "cell_type": "code",
      "execution_count": 94,
      "metadata": {},
      "outputs": [
        {
          "data": {
            "text/html": [
              "<div>\n",
              "<style scoped>\n",
              "    .dataframe tbody tr th:only-of-type {\n",
              "        vertical-align: middle;\n",
              "    }\n",
              "\n",
              "    .dataframe tbody tr th {\n",
              "        vertical-align: top;\n",
              "    }\n",
              "\n",
              "    .dataframe thead th {\n",
              "        text-align: right;\n",
              "    }\n",
              "</style>\n",
              "<table border=\"1\" class=\"dataframe\">\n",
              "  <thead>\n",
              "    <tr style=\"text-align: right;\">\n",
              "      <th></th>\n",
              "      <th>Provinsi</th>\n",
              "      <th>Produksi</th>\n",
              "      <th>Luas Panen</th>\n",
              "      <th>Curah hujan</th>\n",
              "      <th>Kelembapan</th>\n",
              "      <th>Suhu rata-rata</th>\n",
              "    </tr>\n",
              "    <tr>\n",
              "      <th>Tahun</th>\n",
              "      <th></th>\n",
              "      <th></th>\n",
              "      <th></th>\n",
              "      <th></th>\n",
              "      <th></th>\n",
              "      <th></th>\n",
              "    </tr>\n",
              "  </thead>\n",
              "  <tbody>\n",
              "    <tr>\n",
              "      <th>1993</th>\n",
              "      <td>Aceh</td>\n",
              "      <td>1329536.0</td>\n",
              "      <td>323589.0</td>\n",
              "      <td>1627.0</td>\n",
              "      <td>82.00</td>\n",
              "      <td>26.06</td>\n",
              "    </tr>\n",
              "    <tr>\n",
              "      <th>1994</th>\n",
              "      <td>Aceh</td>\n",
              "      <td>1299699.0</td>\n",
              "      <td>329041.0</td>\n",
              "      <td>1521.0</td>\n",
              "      <td>82.12</td>\n",
              "      <td>26.92</td>\n",
              "    </tr>\n",
              "    <tr>\n",
              "      <th>1995</th>\n",
              "      <td>Aceh</td>\n",
              "      <td>1382905.0</td>\n",
              "      <td>339253.0</td>\n",
              "      <td>1476.0</td>\n",
              "      <td>82.72</td>\n",
              "      <td>26.27</td>\n",
              "    </tr>\n",
              "    <tr>\n",
              "      <th>1996</th>\n",
              "      <td>Aceh</td>\n",
              "      <td>1419128.0</td>\n",
              "      <td>348223.0</td>\n",
              "      <td>1557.0</td>\n",
              "      <td>83.00</td>\n",
              "      <td>26.08</td>\n",
              "    </tr>\n",
              "    <tr>\n",
              "      <th>1997</th>\n",
              "      <td>Aceh</td>\n",
              "      <td>1368074.0</td>\n",
              "      <td>337561.0</td>\n",
              "      <td>1339.0</td>\n",
              "      <td>82.46</td>\n",
              "      <td>26.31</td>\n",
              "    </tr>\n",
              "  </tbody>\n",
              "</table>\n",
              "</div>"
            ],
            "text/plain": [
              "      Provinsi   Produksi  Luas Panen  Curah hujan  Kelembapan  Suhu rata-rata\n",
              "Tahun                                                                         \n",
              "1993      Aceh  1329536.0    323589.0       1627.0       82.00           26.06\n",
              "1994      Aceh  1299699.0    329041.0       1521.0       82.12           26.92\n",
              "1995      Aceh  1382905.0    339253.0       1476.0       82.72           26.27\n",
              "1996      Aceh  1419128.0    348223.0       1557.0       83.00           26.08\n",
              "1997      Aceh  1368074.0    337561.0       1339.0       82.46           26.31"
            ]
          },
          "execution_count": 94,
          "metadata": {},
          "output_type": "execute_result"
        }
      ],
      "source": [
        "df_copy.set_index(\"Tahun\", inplace=True)\n",
        "df_copy.head()"
      ]
    },
    {
      "cell_type": "code",
      "execution_count": 95,
      "metadata": {},
      "outputs": [
        {
          "data": {
            "text/plain": [
              "array(['Aceh', 'Sumatera Utara', 'Sumatera Barat', 'Riau', 'Jambi',\n",
              "       'Sumatera Selatan', 'Bengkulu', 'Lampung'], dtype=object)"
            ]
          },
          "execution_count": 95,
          "metadata": {},
          "output_type": "execute_result"
        }
      ],
      "source": [
        "df_copy['Provinsi'].unique()"
      ]
    },
    {
      "cell_type": "markdown",
      "metadata": {},
      "source": [
        "# Analisis Forecasting"
      ]
    },
    {
      "cell_type": "code",
      "execution_count": 96,
      "metadata": {},
      "outputs": [],
      "source": [
        "# Fungsi Konversi ke timeseries\n",
        "def prepare_data_for_lstm(df, province, n_past=3, n_future=1, test_size=7, drop_columns=['Provinsi']):\n",
        "    # Filter and split the dataset\n",
        "    province_df = df[df['Provinsi'] == province]\n",
        "    if drop_columns:\n",
        "        province_df = province_df.drop(columns=drop_columns)\n",
        "    df_train = province_df[:-test_size]\n",
        "    df_test = province_df[-test_size - n_past:]\n",
        "\n",
        "    scaler = MinMaxScaler()\n",
        "    columns = (['Produksi', 'Luas Panen', 'Curah hujan', 'Kelembapan', 'Suhu rata-rata'])\n",
        "    df_train = scaler.fit_transform(df_train)\n",
        "    df_test = scaler.transform(df_test)\n",
        "\n",
        "    # Prepare training and testing sequences\n",
        "    df_train = np.array(df_train)\n",
        "    df_test = np.array(df_test)\n",
        "    X, y = [], []\n",
        "    for i in range(n_past, len(df_train) - n_future+1):\n",
        "      X.append(df_train[i - n_past:i, 1:df_train.shape[1]])\n",
        "      y.append(df_train[i + n_future - 1:i + n_future, 0])\n",
        "    X_train, y_train = np.array(X), np.array(y)\n",
        "\n",
        "    X, y = [], []\n",
        "    for i in range(n_past, len(df_test) - n_future+1):\n",
        "      X.append(df_test[i - n_past:i, 1:df_test.shape[1]])\n",
        "      y.append(df_test[i + n_future - 1:i + n_future, 0])\n",
        "    X_test, y_test = np.array(X), np.array(y)\n",
        "\n",
        "    return X_train, y_train, X_test, y_test"
      ]
    },
    {
      "cell_type": "code",
      "execution_count": 97,
      "metadata": {},
      "outputs": [],
      "source": [
        "def create_lstm_model(X_train, y_train, epoch):\n",
        "    model = Sequential()\n",
        "    model.add(LSTM(64, input_shape=(X_train.shape[1], X_train.shape[2]), return_sequences=True))\n",
        "    model.add(Dropout(0.2))\n",
        "    model.add(LSTM(32, return_sequences=True))\n",
        "    model.add(Dropout(0.2))\n",
        "    model.add(LSTM(16, return_sequences=False))\n",
        "    model.add(Dense(32, activation='relu'))\n",
        "    model.add(Dropout(0.2))\n",
        "    model.add(Dense(y_train.shape[1]))\n",
        "\n",
        "    model.compile(loss='mse', optimizer=Adam(learning_rate=0.001), metrics=[RootMeanSquaredError()])\n",
        "\n",
        "    history = model.fit(X_train, y_train, epochs=epoch, validation_split=0.1, shuffle=False, verbose=0, callbacks=[TqdmCallback(verbose=1)])\n",
        "\n",
        "    return model, history"
      ]
    },
    {
      "cell_type": "markdown",
      "metadata": {},
      "source": [
        "# Implementasi"
      ]
    },
    {
      "cell_type": "markdown",
      "metadata": {},
      "source": [
        "### 1.Aceh"
      ]
    },
    {
      "cell_type": "code",
      "execution_count": 98,
      "metadata": {},
      "outputs": [
        {
          "data": {
            "text/html": [
              "<div>\n",
              "<style scoped>\n",
              "    .dataframe tbody tr th:only-of-type {\n",
              "        vertical-align: middle;\n",
              "    }\n",
              "\n",
              "    .dataframe tbody tr th {\n",
              "        vertical-align: top;\n",
              "    }\n",
              "\n",
              "    .dataframe thead th {\n",
              "        text-align: right;\n",
              "    }\n",
              "</style>\n",
              "<table border=\"1\" class=\"dataframe\">\n",
              "  <thead>\n",
              "    <tr style=\"text-align: right;\">\n",
              "      <th></th>\n",
              "      <th>Provinsi</th>\n",
              "      <th>Tahun</th>\n",
              "      <th>Produksi</th>\n",
              "      <th>Luas Panen</th>\n",
              "      <th>Curah hujan</th>\n",
              "      <th>Kelembapan</th>\n",
              "      <th>Suhu rata-rata</th>\n",
              "      <th>Panen</th>\n",
              "    </tr>\n",
              "  </thead>\n",
              "  <tbody>\n",
              "    <tr>\n",
              "      <th>0</th>\n",
              "      <td>Aceh</td>\n",
              "      <td>1993</td>\n",
              "      <td>1329536.00</td>\n",
              "      <td>323589.00</td>\n",
              "      <td>1627.0</td>\n",
              "      <td>82.00</td>\n",
              "      <td>26.06</td>\n",
              "      <td>4.108718</td>\n",
              "    </tr>\n",
              "    <tr>\n",
              "      <th>1</th>\n",
              "      <td>Aceh</td>\n",
              "      <td>1994</td>\n",
              "      <td>1299699.00</td>\n",
              "      <td>329041.00</td>\n",
              "      <td>1521.0</td>\n",
              "      <td>82.12</td>\n",
              "      <td>26.92</td>\n",
              "      <td>3.949961</td>\n",
              "    </tr>\n",
              "    <tr>\n",
              "      <th>2</th>\n",
              "      <td>Aceh</td>\n",
              "      <td>1995</td>\n",
              "      <td>1382905.00</td>\n",
              "      <td>339253.00</td>\n",
              "      <td>1476.0</td>\n",
              "      <td>82.72</td>\n",
              "      <td>26.27</td>\n",
              "      <td>4.076324</td>\n",
              "    </tr>\n",
              "    <tr>\n",
              "      <th>3</th>\n",
              "      <td>Aceh</td>\n",
              "      <td>1996</td>\n",
              "      <td>1419128.00</td>\n",
              "      <td>348223.00</td>\n",
              "      <td>1557.0</td>\n",
              "      <td>83.00</td>\n",
              "      <td>26.08</td>\n",
              "      <td>4.075343</td>\n",
              "    </tr>\n",
              "    <tr>\n",
              "      <th>4</th>\n",
              "      <td>Aceh</td>\n",
              "      <td>1997</td>\n",
              "      <td>1368074.00</td>\n",
              "      <td>337561.00</td>\n",
              "      <td>1339.0</td>\n",
              "      <td>82.46</td>\n",
              "      <td>26.31</td>\n",
              "      <td>4.052820</td>\n",
              "    </tr>\n",
              "    <tr>\n",
              "      <th>...</th>\n",
              "      <td>...</td>\n",
              "      <td>...</td>\n",
              "      <td>...</td>\n",
              "      <td>...</td>\n",
              "      <td>...</td>\n",
              "      <td>...</td>\n",
              "      <td>...</td>\n",
              "      <td>...</td>\n",
              "    </tr>\n",
              "    <tr>\n",
              "      <th>219</th>\n",
              "      <td>Lampung</td>\n",
              "      <td>2016</td>\n",
              "      <td>3831923.00</td>\n",
              "      <td>390799.00</td>\n",
              "      <td>2317.6</td>\n",
              "      <td>79.40</td>\n",
              "      <td>26.45</td>\n",
              "      <td>9.805355</td>\n",
              "    </tr>\n",
              "    <tr>\n",
              "      <th>220</th>\n",
              "      <td>Lampung</td>\n",
              "      <td>2017</td>\n",
              "      <td>4090654.00</td>\n",
              "      <td>396559.00</td>\n",
              "      <td>1825.1</td>\n",
              "      <td>77.04</td>\n",
              "      <td>26.36</td>\n",
              "      <td>10.315373</td>\n",
              "    </tr>\n",
              "    <tr>\n",
              "      <th>221</th>\n",
              "      <td>Lampung</td>\n",
              "      <td>2018</td>\n",
              "      <td>2488641.91</td>\n",
              "      <td>511940.93</td>\n",
              "      <td>1385.8</td>\n",
              "      <td>76.05</td>\n",
              "      <td>25.50</td>\n",
              "      <td>4.861190</td>\n",
              "    </tr>\n",
              "    <tr>\n",
              "      <th>222</th>\n",
              "      <td>Lampung</td>\n",
              "      <td>2019</td>\n",
              "      <td>2164089.33</td>\n",
              "      <td>464103.42</td>\n",
              "      <td>1706.4</td>\n",
              "      <td>78.03</td>\n",
              "      <td>27.23</td>\n",
              "      <td>4.662946</td>\n",
              "    </tr>\n",
              "    <tr>\n",
              "      <th>223</th>\n",
              "      <td>Lampung</td>\n",
              "      <td>2020</td>\n",
              "      <td>2604913.29</td>\n",
              "      <td>545149.05</td>\n",
              "      <td>2211.3</td>\n",
              "      <td>75.80</td>\n",
              "      <td>24.58</td>\n",
              "      <td>4.778351</td>\n",
              "    </tr>\n",
              "  </tbody>\n",
              "</table>\n",
              "<p>224 rows × 8 columns</p>\n",
              "</div>"
            ],
            "text/plain": [
              "    Provinsi  Tahun    Produksi  Luas Panen  Curah hujan  Kelembapan  \\\n",
              "0       Aceh   1993  1329536.00   323589.00       1627.0       82.00   \n",
              "1       Aceh   1994  1299699.00   329041.00       1521.0       82.12   \n",
              "2       Aceh   1995  1382905.00   339253.00       1476.0       82.72   \n",
              "3       Aceh   1996  1419128.00   348223.00       1557.0       83.00   \n",
              "4       Aceh   1997  1368074.00   337561.00       1339.0       82.46   \n",
              "..       ...    ...         ...         ...          ...         ...   \n",
              "219  Lampung   2016  3831923.00   390799.00       2317.6       79.40   \n",
              "220  Lampung   2017  4090654.00   396559.00       1825.1       77.04   \n",
              "221  Lampung   2018  2488641.91   511940.93       1385.8       76.05   \n",
              "222  Lampung   2019  2164089.33   464103.42       1706.4       78.03   \n",
              "223  Lampung   2020  2604913.29   545149.05       2211.3       75.80   \n",
              "\n",
              "     Suhu rata-rata      Panen  \n",
              "0             26.06   4.108718  \n",
              "1             26.92   3.949961  \n",
              "2             26.27   4.076324  \n",
              "3             26.08   4.075343  \n",
              "4             26.31   4.052820  \n",
              "..              ...        ...  \n",
              "219           26.45   9.805355  \n",
              "220           26.36  10.315373  \n",
              "221           25.50   4.861190  \n",
              "222           27.23   4.662946  \n",
              "223           24.58   4.778351  \n",
              "\n",
              "[224 rows x 8 columns]"
            ]
          },
          "execution_count": 98,
          "metadata": {},
          "output_type": "execute_result"
        }
      ],
      "source": [
        "df[:]"
      ]
    },
    {
      "cell_type": "code",
      "execution_count": 99,
      "metadata": {},
      "outputs": [
        {
          "data": {
            "text/plain": [
              "(18, 3, 4)"
            ]
          },
          "execution_count": 99,
          "metadata": {},
          "output_type": "execute_result"
        }
      ],
      "source": [
        "(18, 3, 4)"
      ]
    },
    {
      "cell_type": "code",
      "execution_count": 100,
      "metadata": {},
      "outputs": [
        {
          "name": "stderr",
          "output_type": "stream",
          "text": [
            "100%|██████████| 500/500 [00:35<00:00, 14.26epoch/s, loss=0.0021, root_mean_squared_error=0.0458, val_loss=0.133, val_root_mean_squared_error=0.364] \n"
          ]
        }
      ],
      "source": [
        "X_train_aceh, y_train_aceh, X_test_aceh, y_test_aceh = prepare_data_for_lstm(df_copy, 'Aceh', n_past=3, n_future=1, test_size=7,)\n",
        "model, history = create_lstm_model(X_train_aceh, y_train_aceh, epoch=500)"
      ]
    },
    {
      "cell_type": "code",
      "execution_count": 101,
      "metadata": {},
      "outputs": [
        {
          "name": "stdout",
          "output_type": "stream",
          "text": [
            "              Feature_1  Feature_2  Feature_3  Feature_4\n",
            "Sequence_1 0   0.272878   0.685705   0.611899   0.257485\n",
            "           1   0.355252   0.655289   0.639359   0.062874\n",
            "           2   0.427608   0.710037   0.652174   0.005988\n",
            "Sequence_2 0   0.355252   0.655289   0.639359   0.062874\n",
            "           1   0.427608   0.710037   0.652174   0.005988\n",
            "           2   0.341604   0.562690   0.627460   0.074850\n",
            "Sequence_3 0   0.427608   0.710037   0.652174   0.005988\n",
            "           1   0.341604   0.562690   0.627460   0.074850\n",
            "           2   0.570133   0.647854   0.633867   0.233533\n",
            "Sequence_4 0   0.341604   0.562690   0.627460   0.074850\n",
            "           1   0.570133   0.647854   0.633867   0.233533\n",
            "           2   0.521130   0.859412   0.642563   0.023952\n"
          ]
        }
      ],
      "source": [
        "import pandas as pd\n",
        "import numpy as np\n",
        "\n",
        "# Misalkan arr adalah array (18, 3, 4)\n",
        "arr = X_train_aceh[1:5]  # Gantilah ini dengan array sesuai kebutuhan\n",
        "\n",
        "# Mengonversi array ke DataFrame\n",
        "df_list = []\n",
        "\n",
        "for i in range(arr.shape[0]):\n",
        "    df_i = pd.DataFrame(arr[i], columns=[f'Feature_{j+1}' for j in range(arr.shape[2])])\n",
        "    df_list.append(df_i)\n",
        "\n",
        "df_combined = pd.concat(df_list, keys=[f'Sequence_{i+1}' for i in range(arr.shape[0])])\n",
        "\n",
        "# Menampilkan DataFrame\n",
        "print(df_combined)\n"
      ]
    },
    {
      "cell_type": "code",
      "execution_count": 102,
      "metadata": {},
      "outputs": [
        {
          "name": "stdout",
          "output_type": "stream",
          "text": [
            "Model: \"sequential_4\"\n",
            "_________________________________________________________________\n",
            " Layer (type)                Output Shape              Param #   \n",
            "=================================================================\n",
            " lstm_12 (LSTM)              (None, 3, 64)             17664     \n",
            "                                                                 \n",
            " dropout_12 (Dropout)        (None, 3, 64)             0         \n",
            "                                                                 \n",
            " lstm_13 (LSTM)              (None, 3, 32)             12416     \n",
            "                                                                 \n",
            " dropout_13 (Dropout)        (None, 3, 32)             0         \n",
            "                                                                 \n",
            " lstm_14 (LSTM)              (None, 16)                3136      \n",
            "                                                                 \n",
            " dense_8 (Dense)             (None, 32)                544       \n",
            "                                                                 \n",
            " dropout_14 (Dropout)        (None, 32)                0         \n",
            "                                                                 \n",
            " dense_9 (Dense)             (None, 1)                 33        \n",
            "                                                                 \n",
            "=================================================================\n",
            "Total params: 33,793\n",
            "Trainable params: 33,793\n",
            "Non-trainable params: 0\n",
            "_________________________________________________________________\n"
          ]
        }
      ],
      "source": [
        "model.summary()"
      ]
    },
    {
      "cell_type": "code",
      "execution_count": 103,
      "metadata": {},
      "outputs": [
        {
          "data": {
            "image/png": "[encoded data removed]",
            "text/plain": [
              "<Figure size 432x288 with 1 Axes>"
            ]
          },
          "metadata": {
            "needs_background": "light"
          },
          "output_type": "display_data"
        }
      ],
      "source": [
        "# Grafik Loss\n",
        "plt.figure()\n",
        "plt.plot(history.history['loss'], label='Training Loss')\n",
        "plt.plot(history.history['val_loss'], label='Validation Loss')\n",
        "plt.title('Training and Validation Loss')\n",
        "plt.xlabel('Epochs')\n",
        "plt.ylabel('Loss')\n",
        "plt.legend()\n",
        "plt.show()"
      ]
    },
    {
      "cell_type": "code",
      "execution_count": 104,
      "metadata": {},
      "outputs": [
        {
          "name": "stdout",
          "output_type": "stream",
          "text": [
            "WARNING:tensorflow:5 out of the last 5 calls to <function Model.make_predict_function.<locals>.predict_function at 0x0000026EF7887040> triggered tf.function retracing. Tracing is expensive and the excessive number of tracings could be due to (1) creating @tf.function repeatedly in a loop, (2) passing tensors with different shapes, (3) passing Python objects instead of tensors. For (1), please define your @tf.function outside of the loop. For (2), @tf.function has experimental_relax_shapes=True option that relaxes argument shapes that can avoid unnecessary retracing. For (3), please refer to https://www.tensorflow.org/guide/function#controlling_retracing and https://www.tensorflow.org/api_docs/python/tf/function for  more details.\n"
          ]
        },
        {
          "data": {
            "text/html": [
              "<div>\n",
              "<style scoped>\n",
              "    .dataframe tbody tr th:only-of-type {\n",
              "        vertical-align: middle;\n",
              "    }\n",
              "\n",
              "    .dataframe tbody tr th {\n",
              "        vertical-align: top;\n",
              "    }\n",
              "\n",
              "    .dataframe thead th {\n",
              "        text-align: right;\n",
              "    }\n",
              "</style>\n",
              "<table border=\"1\" class=\"dataframe\">\n",
              "  <thead>\n",
              "    <tr style=\"text-align: right;\">\n",
              "      <th></th>\n",
              "      <th>Train Predictions</th>\n",
              "      <th>Actual</th>\n",
              "    </tr>\n",
              "  </thead>\n",
              "  <tbody>\n",
              "    <tr>\n",
              "      <th>0</th>\n",
              "      <td>0.917970</td>\n",
              "      <td>0.528800</td>\n",
              "    </tr>\n",
              "    <tr>\n",
              "      <th>1</th>\n",
              "      <td>1.145567</td>\n",
              "      <td>0.655021</td>\n",
              "    </tr>\n",
              "    <tr>\n",
              "      <th>2</th>\n",
              "      <td>1.503289</td>\n",
              "      <td>0.861409</td>\n",
              "    </tr>\n",
              "    <tr>\n",
              "      <th>3</th>\n",
              "      <td>1.244853</td>\n",
              "      <td>1.136363</td>\n",
              "    </tr>\n",
              "    <tr>\n",
              "      <th>4</th>\n",
              "      <td>0.803062</td>\n",
              "      <td>0.466035</td>\n",
              "    </tr>\n",
              "    <tr>\n",
              "      <th>5</th>\n",
              "      <td>-0.002962</td>\n",
              "      <td>0.431400</td>\n",
              "    </tr>\n",
              "    <tr>\n",
              "      <th>6</th>\n",
              "      <td>-0.017830</td>\n",
              "      <td>0.567074</td>\n",
              "    </tr>\n",
              "  </tbody>\n",
              "</table>\n",
              "</div>"
            ],
            "text/plain": [
              "   Train Predictions    Actual\n",
              "0           0.917970  0.528800\n",
              "1           1.145567  0.655021\n",
              "2           1.503289  0.861409\n",
              "3           1.244853  1.136363\n",
              "4           0.803062  0.466035\n",
              "5          -0.002962  0.431400\n",
              "6          -0.017830  0.567074"
            ]
          },
          "execution_count": 104,
          "metadata": {},
          "output_type": "execute_result"
        }
      ],
      "source": [
        "# Tabel Perbadingan Hasil Prediksi Dengan Hasil Aktual\n",
        "test_predictions = model.predict(X_test_aceh).flatten()\n",
        "test_results = pd.DataFrame(data={'Train Predictions': test_predictions,\n",
        "                                  'Actual':y_test_aceh.flatten()})\n",
        "test_results"
      ]
    },
    {
      "cell_type": "code",
      "execution_count": 105,
      "metadata": {},
      "outputs": [
        {
          "data": {
            "image/png": "[encoded data removed]",
            "text/plain": [
              "<Figure size 432x288 with 1 Axes>"
            ]
          },
          "metadata": {
            "needs_background": "light"
          },
          "output_type": "display_data"
        }
      ],
      "source": [
        "# Grafik Perbadingan Hasil Prediksi Dengan Hasil Aktual\n",
        "plt.plot(test_results['Train Predictions'][:10], label='Predicted Values')\n",
        "plt.plot(test_results['Actual'][:10], label='True Values')\n",
        "plt.legend()\n",
        "plt.show()"
      ]
    },
    {
      "cell_type": "code",
      "execution_count": 106,
      "metadata": {},
      "outputs": [
        {
          "name": "stdout",
          "output_type": "stream",
          "text": [
            "Test RMSE: 0.45673\n"
          ]
        }
      ],
      "source": [
        "# Menghitung Nilai RMSE\n",
        "rmse = sqrt(mse(y_test_aceh, test_predictions))\n",
        "print('Test RMSE: %.5f' % rmse)"
      ]
    },
    {
      "cell_type": "markdown",
      "metadata": {},
      "source": [
        "### 2.Sumatera Utara"
      ]
    },
    {
      "cell_type": "code",
      "execution_count": 107,
      "metadata": {},
      "outputs": [
        {
          "name": "stderr",
          "output_type": "stream",
          "text": [
            "100%|██████████| 500/500 [00:29<00:00, 17.09epoch/s, loss=0.0258, root_mean_squared_error=0.161, val_loss=0.108, val_root_mean_squared_error=0.328] \n"
          ]
        }
      ],
      "source": [
        "X_train_aceh, y_train_aceh, X_test_aceh, y_test_aceh = prepare_data_for_lstm(df_copy, 'Sumatera Utara', n_past=3, n_future=1, test_size=7,)\n",
        "model, history = create_lstm_model(X_train_aceh, y_train_aceh, 500)"
      ]
    },
    {
      "cell_type": "code",
      "execution_count": 108,
      "metadata": {},
      "outputs": [
        {
          "name": "stdout",
          "output_type": "stream",
          "text": [
            "1/1 [==============================] - 0s 42ms/step - loss: 2.7231 - root_mean_squared_error: 1.6502\n"
          ]
        },
        {
          "data": {
            "text/plain": [
              "[2.7231204509735107, 1.6501879692077637]"
            ]
          },
          "execution_count": 108,
          "metadata": {},
          "output_type": "execute_result"
        }
      ],
      "source": [
        "model.evaluate(X_test_aceh, y_test_aceh)"
      ]
    },
    {
      "cell_type": "code",
      "execution_count": 109,
      "metadata": {},
      "outputs": [
        {
          "data": {
            "image/png": "[encoded data removed]",
            "text/plain": [
              "<Figure size 432x288 with 1 Axes>"
            ]
          },
          "metadata": {
            "needs_background": "light"
          },
          "output_type": "display_data"
        }
      ],
      "source": [
        "plt.figure()\n",
        "plt.plot(history.history['loss'], label='Training Loss')\n",
        "plt.plot(history.history['val_loss'], label='Validation Loss')\n",
        "plt.title('Training and Validation Loss')\n",
        "plt.xlabel('Epochs')\n",
        "plt.ylabel('Loss')\n",
        "plt.legend()\n",
        "plt.show()"
      ]
    },
    {
      "cell_type": "code",
      "execution_count": 110,
      "metadata": {},
      "outputs": [
        {
          "name": "stdout",
          "output_type": "stream",
          "text": [
            "WARNING:tensorflow:6 out of the last 6 calls to <function Model.make_predict_function.<locals>.predict_function at 0x0000026ECE27AB80> triggered tf.function retracing. Tracing is expensive and the excessive number of tracings could be due to (1) creating @tf.function repeatedly in a loop, (2) passing tensors with different shapes, (3) passing Python objects instead of tensors. For (1), please define your @tf.function outside of the loop. For (2), @tf.function has experimental_relax_shapes=True option that relaxes argument shapes that can avoid unnecessary retracing. For (3), please refer to https://www.tensorflow.org/guide/function#controlling_retracing and https://www.tensorflow.org/api_docs/python/tf/function for  more details.\n"
          ]
        },
        {
          "data": {
            "text/html": [
              "<div>\n",
              "<style scoped>\n",
              "    .dataframe tbody tr th:only-of-type {\n",
              "        vertical-align: middle;\n",
              "    }\n",
              "\n",
              "    .dataframe tbody tr th {\n",
              "        vertical-align: top;\n",
              "    }\n",
              "\n",
              "    .dataframe thead th {\n",
              "        text-align: right;\n",
              "    }\n",
              "</style>\n",
              "<table border=\"1\" class=\"dataframe\">\n",
              "  <thead>\n",
              "    <tr style=\"text-align: right;\">\n",
              "      <th></th>\n",
              "      <th>Train Predictions</th>\n",
              "      <th>Actual</th>\n",
              "    </tr>\n",
              "  </thead>\n",
              "  <tbody>\n",
              "    <tr>\n",
              "      <th>0</th>\n",
              "      <td>0.734916</td>\n",
              "      <td>0.881090</td>\n",
              "    </tr>\n",
              "    <tr>\n",
              "      <th>1</th>\n",
              "      <td>0.770123</td>\n",
              "      <td>1.392512</td>\n",
              "    </tr>\n",
              "    <tr>\n",
              "      <th>2</th>\n",
              "      <td>0.785431</td>\n",
              "      <td>1.815461</td>\n",
              "    </tr>\n",
              "    <tr>\n",
              "      <th>3</th>\n",
              "      <td>0.805635</td>\n",
              "      <td>2.164914</td>\n",
              "    </tr>\n",
              "    <tr>\n",
              "      <th>4</th>\n",
              "      <td>0.926945</td>\n",
              "      <td>-1.000952</td>\n",
              "    </tr>\n",
              "    <tr>\n",
              "      <th>5</th>\n",
              "      <td>1.419788</td>\n",
              "      <td>-1.037268</td>\n",
              "    </tr>\n",
              "    <tr>\n",
              "      <th>6</th>\n",
              "      <td>1.407061</td>\n",
              "      <td>-1.040508</td>\n",
              "    </tr>\n",
              "  </tbody>\n",
              "</table>\n",
              "</div>"
            ],
            "text/plain": [
              "   Train Predictions    Actual\n",
              "0           0.734916  0.881090\n",
              "1           0.770123  1.392512\n",
              "2           0.785431  1.815461\n",
              "3           0.805635  2.164914\n",
              "4           0.926945 -1.000952\n",
              "5           1.419788 -1.037268\n",
              "6           1.407061 -1.040508"
            ]
          },
          "execution_count": 110,
          "metadata": {},
          "output_type": "execute_result"
        }
      ],
      "source": [
        "test_predictions = model.predict(X_test_aceh).flatten()\n",
        "test_results = pd.DataFrame(data={'Train Predictions': test_predictions,\n",
        "                                  'Actual':y_test_aceh.flatten()})\n",
        "test_results"
      ]
    },
    {
      "cell_type": "code",
      "execution_count": 111,
      "metadata": {},
      "outputs": [
        {
          "data": {
            "image/png": "[encoded data removed]",
            "text/plain": [
              "<Figure size 432x288 with 1 Axes>"
            ]
          },
          "metadata": {
            "needs_background": "light"
          },
          "output_type": "display_data"
        }
      ],
      "source": [
        "plt.plot(test_results['Train Predictions'][:10], label='Predicted Values')\n",
        "plt.plot(test_results['Actual'][:10], label='True Values')\n",
        "plt.legend()\n",
        "plt.show()"
      ]
    },
    {
      "cell_type": "code",
      "execution_count": 112,
      "metadata": {},
      "outputs": [
        {
          "name": "stdout",
          "output_type": "stream",
          "text": [
            "Test RMSE: 1.65019\n"
          ]
        }
      ],
      "source": [
        "rmse = sqrt(mse(y_test_aceh, test_predictions))\n",
        "print('Test RMSE: %.5f' % rmse)"
      ]
    }
  ],
  "metadata": {
    "colab": {
      "provenance": []
    },
    "kernelspec": {
      "display_name": "Python 3",
      "name": "python3"
    },
    "language_info": {
      "codemirror_mode": {
        "name": "ipython",
        "version": 3
      },
      "file_extension": ".py",
      "mimetype": "text/x-python",
      "name": "python",
      "nbconvert_exporter": "python",
      "pygments_lexer": "ipython3",
      "version": "3.9.2"
    }
  },
  "nbformat": 4,
  "nbformat_minor": 0
}
