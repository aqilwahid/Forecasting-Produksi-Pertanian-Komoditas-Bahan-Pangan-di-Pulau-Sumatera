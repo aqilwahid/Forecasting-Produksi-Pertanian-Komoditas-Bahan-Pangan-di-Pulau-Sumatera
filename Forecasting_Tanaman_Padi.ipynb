{
  "cells": [
    {
      "cell_type": "code",
      "execution_count": 23,
      "metadata": {
        "id": "nFjXjOcgeydG"
      },
      "outputs": [],
      "source": [
        "# Import library yang diperlukan\n",
        "# from google.colab import drive\n",
        "import os\n",
        "import pandas as pd\n",
        "import numpy as np\n",
        "import matplotlib.pyplot as plt\n",
        "import matplotlib.cm as cm\n",
        "import seaborn as sns\n",
        "from math import sqrt\n",
        "from sklearn.model_selection import train_test_split\n",
        "from sklearn.preprocessing import MinMaxScaler, LabelEncoder\n",
        "from keras.models import Sequential, load_model\n",
        "from keras.layers import Dense, LSTM, Dropout, BatchNormalization\n",
        "from sklearn.metrics import mean_squared_error as mse\n",
        "from tensorflow.keras.callbacks import ModelCheckpoint\n",
        "from tensorflow.keras.losses import MeanSquaredError\n",
        "from tensorflow.keras.metrics import RootMeanSquaredError\n",
        "from tensorflow.keras.optimizers import Adam\n",
        "from tensorflow.keras.callbacks import EarlyStopping, ModelCheckpoint\n",
        "from tqdm.keras import TqdmCallback\n",
        "#ignore warning\n",
        "import warnings\n",
        "warnings.filterwarnings('ignore')"
      ]
    },
    {
      "cell_type": "code",
      "execution_count": 24,
      "metadata": {
        "colab": {
          "base_uri": "https://localhost:8080/"
        },
        "id": "G9xdGXlhfKQf",
        "outputId": "8ad4440f-602b-4429-e4c5-2c28b25743b6"
      },
      "outputs": [],
      "source": [
        "# Mount Google Drive\n",
        "# drive.mount('/content/drive')"
      ]
    },
    {
      "cell_type": "markdown",
      "metadata": {
        "id": "LqLqIFGufN9i"
      },
      "source": [
        "# Import Data"
      ]
    },
    {
      "cell_type": "code",
      "execution_count": 25,
      "metadata": {
        "id": "2BOgEprkfLy7"
      },
      "outputs": [],
      "source": [
        "# Ganti 'nama_file.csv' dengan nama file CSV yang ingin Anda baca\n",
        "# nama_file = '/content/drive/MyDrive/UTY/Semester 7/Data Science/Seminar Nasional/Data_Tanaman_Padi_Sumatera_version_1.csv'\n",
        "nama_file = './Dataset/Data_Tanaman_Padi_Sumatera_version_1.csv'\n",
        "# Membaca file CSV dan menyimpannya dalam bentuk DataFrame\n",
        "df = pd.read_csv(nama_file, delimiter = ',')"
      ]
    },
    {
      "cell_type": "markdown",
      "metadata": {
        "id": "-I_UjMgid7p2"
      },
      "source": [
        "# Data Exploration"
      ]
    },
    {
      "cell_type": "code",
      "execution_count": 26,
      "metadata": {
        "colab": {
          "base_uri": "https://localhost:8080/",
          "height": 206
        },
        "id": "EQ93w71egMQj",
        "outputId": "afa8f576-4e6b-48cf-867f-b5197650e9f8"
      },
      "outputs": [
        {
          "data": {
            "text/html": [
              "<div>\n",
              "<style scoped>\n",
              "    .dataframe tbody tr th:only-of-type {\n",
              "        vertical-align: middle;\n",
              "    }\n",
              "\n",
              "    .dataframe tbody tr th {\n",
              "        vertical-align: top;\n",
              "    }\n",
              "\n",
              "    .dataframe thead th {\n",
              "        text-align: right;\n",
              "    }\n",
              "</style>\n",
              "<table border=\"1\" class=\"dataframe\">\n",
              "  <thead>\n",
              "    <tr style=\"text-align: right;\">\n",
              "      <th></th>\n",
              "      <th>Provinsi</th>\n",
              "      <th>Tahun</th>\n",
              "      <th>Produksi</th>\n",
              "      <th>Luas Panen</th>\n",
              "      <th>Curah hujan</th>\n",
              "      <th>Kelembapan</th>\n",
              "      <th>Suhu rata-rata</th>\n",
              "    </tr>\n",
              "  </thead>\n",
              "  <tbody>\n",
              "    <tr>\n",
              "      <th>0</th>\n",
              "      <td>Aceh</td>\n",
              "      <td>1993</td>\n",
              "      <td>1329536.0</td>\n",
              "      <td>323589.0</td>\n",
              "      <td>1627.0</td>\n",
              "      <td>82.00</td>\n",
              "      <td>26.06</td>\n",
              "    </tr>\n",
              "    <tr>\n",
              "      <th>1</th>\n",
              "      <td>Aceh</td>\n",
              "      <td>1994</td>\n",
              "      <td>1299699.0</td>\n",
              "      <td>329041.0</td>\n",
              "      <td>1521.0</td>\n",
              "      <td>82.12</td>\n",
              "      <td>26.92</td>\n",
              "    </tr>\n",
              "    <tr>\n",
              "      <th>2</th>\n",
              "      <td>Aceh</td>\n",
              "      <td>1995</td>\n",
              "      <td>1382905.0</td>\n",
              "      <td>339253.0</td>\n",
              "      <td>1476.0</td>\n",
              "      <td>82.72</td>\n",
              "      <td>26.27</td>\n",
              "    </tr>\n",
              "    <tr>\n",
              "      <th>3</th>\n",
              "      <td>Aceh</td>\n",
              "      <td>1996</td>\n",
              "      <td>1419128.0</td>\n",
              "      <td>348223.0</td>\n",
              "      <td>1557.0</td>\n",
              "      <td>83.00</td>\n",
              "      <td>26.08</td>\n",
              "    </tr>\n",
              "    <tr>\n",
              "      <th>4</th>\n",
              "      <td>Aceh</td>\n",
              "      <td>1997</td>\n",
              "      <td>1368074.0</td>\n",
              "      <td>337561.0</td>\n",
              "      <td>1339.0</td>\n",
              "      <td>82.46</td>\n",
              "      <td>26.31</td>\n",
              "    </tr>\n",
              "  </tbody>\n",
              "</table>\n",
              "</div>"
            ],
            "text/plain": [
              "  Provinsi  Tahun   Produksi  Luas Panen  Curah hujan  Kelembapan  \\\n",
              "0     Aceh   1993  1329536.0    323589.0       1627.0       82.00   \n",
              "1     Aceh   1994  1299699.0    329041.0       1521.0       82.12   \n",
              "2     Aceh   1995  1382905.0    339253.0       1476.0       82.72   \n",
              "3     Aceh   1996  1419128.0    348223.0       1557.0       83.00   \n",
              "4     Aceh   1997  1368074.0    337561.0       1339.0       82.46   \n",
              "\n",
              "   Suhu rata-rata  \n",
              "0           26.06  \n",
              "1           26.92  \n",
              "2           26.27  \n",
              "3           26.08  \n",
              "4           26.31  "
            ]
          },
          "execution_count": 26,
          "metadata": {},
          "output_type": "execute_result"
        }
      ],
      "source": [
        "df.head()"
      ]
    },
    {
      "cell_type": "code",
      "execution_count": 27,
      "metadata": {
        "colab": {
          "base_uri": "https://localhost:8080/"
        },
        "id": "W20mMug7dTyb",
        "outputId": "353be842-e56c-4267-8d47-696c3165b406"
      },
      "outputs": [
        {
          "name": "stdout",
          "output_type": "stream",
          "text": [
            "Dataset memiliki 224 baris dan 7 kolom\n"
          ]
        }
      ],
      "source": [
        "print(f'Dataset memiliki {df.shape[0]} baris dan {df.shape[1]} kolom' )"
      ]
    },
    {
      "cell_type": "code",
      "execution_count": 28,
      "metadata": {},
      "outputs": [
        {
          "data": {
            "image/png": "[encoded data removed]",
            "text/plain": [
              "<Figure size 648x648 with 4 Axes>"
            ]
          },
          "metadata": {
            "needs_background": "light"
          },
          "output_type": "display_data"
        }
      ],
      "source": [
        "fig, axes = plt.subplots(2, 2, figsize=(9, 9))\n",
        "\n",
        "# Hubungan antara luas panen dan produksi padi\n",
        "sns.regplot(ax=axes[0, 0], x=df['Luas Panen'], y=df['Produksi'], scatter_kws={'alpha':0.5}, line_kws={'color':'green'})\n",
        "axes[0, 0].set_title('Luas Panen vs Produksi Padi')\n",
        "axes[0, 0].set_xlabel('Luas Panen (hektar)')\n",
        "axes[0, 0].set_ylabel('Produksi Padi (ton)')\n",
        "axes[0, 0].tick_params(labelsize=8)\n",
        "\n",
        "# Hubungan antara curah hujan dan produksi padi\n",
        "sns.regplot(ax=axes[0, 1], x='Curah hujan', y='Produksi', data=df, scatter_kws={'alpha':0.5}, line_kws={'color':'red'})\n",
        "axes[0, 1].set_title('Curah Hujan vs Produksi Padi')\n",
        "axes[0, 1].set_xlabel('Curah Hujan (mm)')\n",
        "axes[0, 1].set_ylabel('Produksi Padi (ton)')\n",
        "axes[0, 1].tick_params(labelsize=8)\n",
        "\n",
        "# Hubungan antara kelembapan dan produksi padi\n",
        "sns.regplot(ax=axes[1, 0], x=df['Kelembapan'], y=df['Produksi'], scatter_kws={'alpha':0.5}, line_kws={'color':'blue'})\n",
        "axes[1, 0].set_title('Kelembapan vs Produksi Padi')\n",
        "axes[1, 0].set_xlabel('Kelembapan (%)')\n",
        "axes[1, 0].set_ylabel('Produksi Padi (ton)')\n",
        "axes[1, 0].tick_params(labelsize=8)\n",
        "\n",
        "# Hubungan antara suhu rata-rata dan produksi padi\n",
        "sns.regplot(ax=axes[1, 1], x=df['Suhu rata-rata'], y=df['Produksi'], scatter_kws={'alpha':0.5}, line_kws={'color':'purple'})\n",
        "axes[1, 1].set_title('Suhu Rata-rata vs Produksi Padi')\n",
        "axes[1, 1].set_xlabel('Suhu Rata-rata (°C)')\n",
        "axes[1, 1].set_ylabel('Produksi Padi (ton)')\n",
        "axes[1, 1].tick_params(labelsize=8)\n",
        "\n",
        "plt.tight_layout()\n",
        "plt.show()"
      ]
    },
    {
      "cell_type": "markdown",
      "metadata": {},
      "source": [
        "Gabungan visualisasi tersebut kini mencakup hubungan antara curah hujan dan produksi padi serta faktor-faktor yang telah dibahas sebelumnya:\n",
        "- Luas Panen dan Produksi Padi: Korelasi positif antara luas panen dan produksi menunjukkan bahwa peningkatan luas tanam padi dapat meningkatkan produksi secara keseluruhan.\n",
        "- Curah Hujan dan Produksi Beras: Penambahan plot hubungan curah hujan memperkuat korelasi positif antara curah hujan dan produksi beras, yang menunjukkan bahwa pasokan air yang cukup dari curah hujan bermanfaat bagi hasil panen padi.\n",
        "- Kelembapan dan Produksi Beras: Keberagaman dalam hubungan antara kelembapan dan produksi menunjukkan bahwa kelembapan saja bukan merupakan prediktor yang kuat terhadap tingkat produksi, kemungkinan besar disebabkan oleh kemampuan adaptasi beras terhadap tingkat kelembapan yang berbeda.\n",
        "- Suhu Rata-rata dan Produksi Beras: Hubungan antara suhu dan produksi nampaknya lemah, hal ini menunjukkan bahwa dalam kisaran suhu yang diamati, produksi beras tidak terlalu sensitif terhadap variasi suhu di Sumatera.\n",
        "\n",
        "Secara keseluruhan, visualisasi ini memberikan gambaran komprehensif tentang bagaimana berbagai faktor lingkungan berkorelasi dengan produksi padi di Sumatera. Curah hujan yang cukup dan lahan pertanian yang cukup tampaknya menjadi faktor kunci dalam memaksimalkan hasil panen padi, sementara kelembapan dan suhu dalam kisaran normal di wilayah tersebut mempunyai pengaruh yang kurang jelas. Wawasan ini dapat menjadi masukan bagi kebijakan pertanian yang berfokus pada pengelolaan air, penggunaan lahan, dan strategi adaptasi iklim."
      ]
    },
    {
      "cell_type": "code",
      "execution_count": 29,
      "metadata": {},
      "outputs": [
        {
          "data": {
            "text/html": [
              "<div>\n",
              "<style scoped>\n",
              "    .dataframe tbody tr th:only-of-type {\n",
              "        vertical-align: middle;\n",
              "    }\n",
              "\n",
              "    .dataframe tbody tr th {\n",
              "        vertical-align: top;\n",
              "    }\n",
              "\n",
              "    .dataframe thead th {\n",
              "        text-align: right;\n",
              "    }\n",
              "</style>\n",
              "<table border=\"1\" class=\"dataframe\">\n",
              "  <thead>\n",
              "    <tr style=\"text-align: right;\">\n",
              "      <th></th>\n",
              "      <th>Tahun</th>\n",
              "      <th>Produksi</th>\n",
              "      <th>Luas Panen</th>\n",
              "      <th>Curah hujan</th>\n",
              "      <th>Kelembapan</th>\n",
              "      <th>Suhu rata-rata</th>\n",
              "    </tr>\n",
              "  </thead>\n",
              "  <tbody>\n",
              "    <tr>\n",
              "      <th>count</th>\n",
              "      <td>224.000000</td>\n",
              "      <td>2.240000e+02</td>\n",
              "      <td>224.000000</td>\n",
              "      <td>224.000000</td>\n",
              "      <td>224.000000</td>\n",
              "      <td>224.000000</td>\n",
              "    </tr>\n",
              "    <tr>\n",
              "      <th>mean</th>\n",
              "      <td>2006.500000</td>\n",
              "      <td>1.679701e+06</td>\n",
              "      <td>374349.966920</td>\n",
              "      <td>2452.490759</td>\n",
              "      <td>80.948705</td>\n",
              "      <td>26.801964</td>\n",
              "    </tr>\n",
              "    <tr>\n",
              "      <th>std</th>\n",
              "      <td>8.095838</td>\n",
              "      <td>1.161387e+06</td>\n",
              "      <td>232751.161987</td>\n",
              "      <td>1031.972625</td>\n",
              "      <td>4.878680</td>\n",
              "      <td>1.197041</td>\n",
              "    </tr>\n",
              "    <tr>\n",
              "      <th>min</th>\n",
              "      <td>1993.000000</td>\n",
              "      <td>4.293800e+04</td>\n",
              "      <td>63142.040000</td>\n",
              "      <td>222.500000</td>\n",
              "      <td>54.200000</td>\n",
              "      <td>22.190000</td>\n",
              "    </tr>\n",
              "    <tr>\n",
              "      <th>25%</th>\n",
              "      <td>1999.750000</td>\n",
              "      <td>5.488570e+05</td>\n",
              "      <td>146919.500000</td>\n",
              "      <td>1703.525000</td>\n",
              "      <td>78.975000</td>\n",
              "      <td>26.177500</td>\n",
              "    </tr>\n",
              "    <tr>\n",
              "      <th>50%</th>\n",
              "      <td>2006.500000</td>\n",
              "      <td>1.667773e+06</td>\n",
              "      <td>373551.500000</td>\n",
              "      <td>2315.700000</td>\n",
              "      <td>82.375000</td>\n",
              "      <td>26.730000</td>\n",
              "    </tr>\n",
              "    <tr>\n",
              "      <th>75%</th>\n",
              "      <td>2013.250000</td>\n",
              "      <td>2.436851e+06</td>\n",
              "      <td>514570.250000</td>\n",
              "      <td>3039.700000</td>\n",
              "      <td>84.000000</td>\n",
              "      <td>27.200000</td>\n",
              "    </tr>\n",
              "    <tr>\n",
              "      <th>max</th>\n",
              "      <td>2020.000000</td>\n",
              "      <td>4.881089e+06</td>\n",
              "      <td>872737.000000</td>\n",
              "      <td>5522.000000</td>\n",
              "      <td>90.600000</td>\n",
              "      <td>29.850000</td>\n",
              "    </tr>\n",
              "  </tbody>\n",
              "</table>\n",
              "</div>"
            ],
            "text/plain": [
              "             Tahun      Produksi     Luas Panen  Curah hujan  Kelembapan  \\\n",
              "count   224.000000  2.240000e+02     224.000000   224.000000  224.000000   \n",
              "mean   2006.500000  1.679701e+06  374349.966920  2452.490759   80.948705   \n",
              "std       8.095838  1.161387e+06  232751.161987  1031.972625    4.878680   \n",
              "min    1993.000000  4.293800e+04   63142.040000   222.500000   54.200000   \n",
              "25%    1999.750000  5.488570e+05  146919.500000  1703.525000   78.975000   \n",
              "50%    2006.500000  1.667773e+06  373551.500000  2315.700000   82.375000   \n",
              "75%    2013.250000  2.436851e+06  514570.250000  3039.700000   84.000000   \n",
              "max    2020.000000  4.881089e+06  872737.000000  5522.000000   90.600000   \n",
              "\n",
              "       Suhu rata-rata  \n",
              "count      224.000000  \n",
              "mean        26.801964  \n",
              "std          1.197041  \n",
              "min         22.190000  \n",
              "25%         26.177500  \n",
              "50%         26.730000  \n",
              "75%         27.200000  \n",
              "max         29.850000  "
            ]
          },
          "execution_count": 29,
          "metadata": {},
          "output_type": "execute_result"
        }
      ],
      "source": [
        "df.describe()"
      ]
    },
    {
      "cell_type": "code",
      "execution_count": 30,
      "metadata": {
        "colab": {
          "base_uri": "https://localhost:8080/"
        },
        "id": "wR5tAHShdU-h",
        "outputId": "f8530bdb-82a2-4cbf-ffdf-40eb6b8bb399"
      },
      "outputs": [
        {
          "name": "stdout",
          "output_type": "stream",
          "text": [
            "<class 'pandas.core.frame.DataFrame'>\n",
            "RangeIndex: 224 entries, 0 to 223\n",
            "Data columns (total 7 columns):\n",
            " #   Column          Non-Null Count  Dtype  \n",
            "---  ------          --------------  -----  \n",
            " 0   Provinsi        224 non-null    object \n",
            " 1   Tahun           224 non-null    int64  \n",
            " 2   Produksi        224 non-null    float64\n",
            " 3   Luas Panen      224 non-null    float64\n",
            " 4   Curah hujan     224 non-null    float64\n",
            " 5   Kelembapan      224 non-null    float64\n",
            " 6   Suhu rata-rata  224 non-null    float64\n",
            "dtypes: float64(5), int64(1), object(1)\n",
            "memory usage: 12.4+ KB\n"
          ]
        }
      ],
      "source": [
        "df.info()"
      ]
    },
    {
      "cell_type": "code",
      "execution_count": 31,
      "metadata": {
        "colab": {
          "base_uri": "https://localhost:8080/",
          "height": 269
        },
        "id": "7Tv0plwadudu",
        "outputId": "ce937e34-f133-4b1d-b178-a25379fca88d"
      },
      "outputs": [
        {
          "data": {
            "text/html": [
              "<div>\n",
              "<style scoped>\n",
              "    .dataframe tbody tr th:only-of-type {\n",
              "        vertical-align: middle;\n",
              "    }\n",
              "\n",
              "    .dataframe tbody tr th {\n",
              "        vertical-align: top;\n",
              "    }\n",
              "\n",
              "    .dataframe thead th {\n",
              "        text-align: right;\n",
              "    }\n",
              "</style>\n",
              "<table border=\"1\" class=\"dataframe\">\n",
              "  <thead>\n",
              "    <tr style=\"text-align: right;\">\n",
              "      <th></th>\n",
              "      <th>Data Kosong</th>\n",
              "      <th>Data Duplikat</th>\n",
              "      <th>Data NaNN</th>\n",
              "      <th>Type Data</th>\n",
              "    </tr>\n",
              "  </thead>\n",
              "  <tbody>\n",
              "    <tr>\n",
              "      <th>Provinsi</th>\n",
              "      <td>0</td>\n",
              "      <td>0</td>\n",
              "      <td>0</td>\n",
              "      <td>object</td>\n",
              "    </tr>\n",
              "    <tr>\n",
              "      <th>Tahun</th>\n",
              "      <td>0</td>\n",
              "      <td>0</td>\n",
              "      <td>0</td>\n",
              "      <td>int64</td>\n",
              "    </tr>\n",
              "    <tr>\n",
              "      <th>Produksi</th>\n",
              "      <td>0</td>\n",
              "      <td>0</td>\n",
              "      <td>0</td>\n",
              "      <td>float64</td>\n",
              "    </tr>\n",
              "    <tr>\n",
              "      <th>Luas Panen</th>\n",
              "      <td>0</td>\n",
              "      <td>0</td>\n",
              "      <td>0</td>\n",
              "      <td>float64</td>\n",
              "    </tr>\n",
              "    <tr>\n",
              "      <th>Curah hujan</th>\n",
              "      <td>0</td>\n",
              "      <td>0</td>\n",
              "      <td>0</td>\n",
              "      <td>float64</td>\n",
              "    </tr>\n",
              "    <tr>\n",
              "      <th>Kelembapan</th>\n",
              "      <td>0</td>\n",
              "      <td>0</td>\n",
              "      <td>0</td>\n",
              "      <td>float64</td>\n",
              "    </tr>\n",
              "    <tr>\n",
              "      <th>Suhu rata-rata</th>\n",
              "      <td>0</td>\n",
              "      <td>0</td>\n",
              "      <td>0</td>\n",
              "      <td>float64</td>\n",
              "    </tr>\n",
              "  </tbody>\n",
              "</table>\n",
              "</div>"
            ],
            "text/plain": [
              "                Data Kosong  Data Duplikat  Data NaNN Type Data\n",
              "Provinsi                  0              0          0    object\n",
              "Tahun                     0              0          0     int64\n",
              "Produksi                  0              0          0   float64\n",
              "Luas Panen                0              0          0   float64\n",
              "Curah hujan               0              0          0   float64\n",
              "Kelembapan                0              0          0   float64\n",
              "Suhu rata-rata            0              0          0   float64"
            ]
          },
          "execution_count": 31,
          "metadata": {},
          "output_type": "execute_result"
        }
      ],
      "source": [
        "cek = pd.DataFrame({\n",
        "    'Data Kosong': df.isnull().sum(),\n",
        "    'Data Duplikat': df.duplicated().sum(),\n",
        "    'Data NaNN': df.isna().sum(),\n",
        "    'Type Data': df.dtypes\n",
        "})\n",
        "\n",
        "cek"
      ]
    },
    {
      "cell_type": "code",
      "execution_count": 32,
      "metadata": {
        "colab": {
          "base_uri": "https://localhost:8080/",
          "height": 294
        },
        "id": "S0C5MPFxdwBI",
        "outputId": "5eae5b58-33ee-43e3-e577-89bafc88c884"
      },
      "outputs": [
        {
          "data": {
            "text/html": [
              "<div>\n",
              "<style scoped>\n",
              "    .dataframe tbody tr th:only-of-type {\n",
              "        vertical-align: middle;\n",
              "    }\n",
              "\n",
              "    .dataframe tbody tr th {\n",
              "        vertical-align: top;\n",
              "    }\n",
              "\n",
              "    .dataframe thead th {\n",
              "        text-align: right;\n",
              "    }\n",
              "</style>\n",
              "<table border=\"1\" class=\"dataframe\">\n",
              "  <thead>\n",
              "    <tr style=\"text-align: right;\">\n",
              "      <th></th>\n",
              "      <th>Tahun</th>\n",
              "      <th>Produksi</th>\n",
              "      <th>Luas Panen</th>\n",
              "      <th>Curah hujan</th>\n",
              "      <th>Kelembapan</th>\n",
              "      <th>Suhu rata-rata</th>\n",
              "    </tr>\n",
              "  </thead>\n",
              "  <tbody>\n",
              "    <tr>\n",
              "      <th>Tahun</th>\n",
              "      <td>1.000000</td>\n",
              "      <td>0.182527</td>\n",
              "      <td>-0.045951</td>\n",
              "      <td>-0.047645</td>\n",
              "      <td>-0.033474</td>\n",
              "      <td>0.004923</td>\n",
              "    </tr>\n",
              "    <tr>\n",
              "      <th>Produksi</th>\n",
              "      <td>0.182527</td>\n",
              "      <td>1.000000</td>\n",
              "      <td>0.905622</td>\n",
              "      <td>-0.042129</td>\n",
              "      <td>-0.052316</td>\n",
              "      <td>0.041160</td>\n",
              "    </tr>\n",
              "    <tr>\n",
              "      <th>Luas Panen</th>\n",
              "      <td>-0.045951</td>\n",
              "      <td>0.905622</td>\n",
              "      <td>1.000000</td>\n",
              "      <td>-0.092975</td>\n",
              "      <td>-0.061121</td>\n",
              "      <td>0.115726</td>\n",
              "    </tr>\n",
              "    <tr>\n",
              "      <th>Curah hujan</th>\n",
              "      <td>-0.047645</td>\n",
              "      <td>-0.042129</td>\n",
              "      <td>-0.092975</td>\n",
              "      <td>1.000000</td>\n",
              "      <td>0.056466</td>\n",
              "      <td>-0.228699</td>\n",
              "    </tr>\n",
              "    <tr>\n",
              "      <th>Kelembapan</th>\n",
              "      <td>-0.033474</td>\n",
              "      <td>-0.052316</td>\n",
              "      <td>-0.061121</td>\n",
              "      <td>0.056466</td>\n",
              "      <td>1.000000</td>\n",
              "      <td>-0.407799</td>\n",
              "    </tr>\n",
              "    <tr>\n",
              "      <th>Suhu rata-rata</th>\n",
              "      <td>0.004923</td>\n",
              "      <td>0.041160</td>\n",
              "      <td>0.115726</td>\n",
              "      <td>-0.228699</td>\n",
              "      <td>-0.407799</td>\n",
              "      <td>1.000000</td>\n",
              "    </tr>\n",
              "  </tbody>\n",
              "</table>\n",
              "</div>"
            ],
            "text/plain": [
              "                   Tahun  Produksi  Luas Panen  Curah hujan  Kelembapan  \\\n",
              "Tahun           1.000000  0.182527   -0.045951    -0.047645   -0.033474   \n",
              "Produksi        0.182527  1.000000    0.905622    -0.042129   -0.052316   \n",
              "Luas Panen     -0.045951  0.905622    1.000000    -0.092975   -0.061121   \n",
              "Curah hujan    -0.047645 -0.042129   -0.092975     1.000000    0.056466   \n",
              "Kelembapan     -0.033474 -0.052316   -0.061121     0.056466    1.000000   \n",
              "Suhu rata-rata  0.004923  0.041160    0.115726    -0.228699   -0.407799   \n",
              "\n",
              "                Suhu rata-rata  \n",
              "Tahun                 0.004923  \n",
              "Produksi              0.041160  \n",
              "Luas Panen            0.115726  \n",
              "Curah hujan          -0.228699  \n",
              "Kelembapan           -0.407799  \n",
              "Suhu rata-rata        1.000000  "
            ]
          },
          "execution_count": 32,
          "metadata": {},
          "output_type": "execute_result"
        }
      ],
      "source": [
        "df.corr()"
      ]
    },
    {
      "cell_type": "code",
      "execution_count": 33,
      "metadata": {
        "colab": {
          "base_uri": "https://localhost:8080/",
          "height": 542
        },
        "id": "MHL8pcb0dzSz",
        "outputId": "95b52ebb-1674-498b-9d40-cabb39af001f"
      },
      "outputs": [
        {
          "ename": "NameError",
          "evalue": "name 'px' is not defined",
          "output_type": "error",
          "traceback": [
            "\u001b[1;31m---------------------------------------------------------------------------\u001b[0m",
            "\u001b[1;31mNameError\u001b[0m                                 Traceback (most recent call last)",
            "\u001b[1;32md:\\UTY\\Semester 7\\Data Science\\Seminar Nasional\\Regresi-Dataset-Tanaman-Padi-Sumatera\\Forecasting_Tanaman_Padi.ipynb Cell 14\u001b[0m line \u001b[0;36m<module>\u001b[1;34m\u001b[0m\n\u001b[0;32m      <a href='vscode-notebook-cell:/d%3A/UTY/Semester%207/Data%20Science/Seminar%20Nasional/Regresi-Dataset-Tanaman-Padi-Sumatera/Forecasting_Tanaman_Padi.ipynb#X15sZmlsZQ%3D%3D?line=0'>1</a>\u001b[0m total_produksi_prov \u001b[39m=\u001b[39m df\u001b[39m.\u001b[39mgroupby([\u001b[39m'\u001b[39m\u001b[39mProvinsi\u001b[39m\u001b[39m'\u001b[39m])[\u001b[39m'\u001b[39m\u001b[39mProduksi\u001b[39m\u001b[39m'\u001b[39m]\u001b[39m.\u001b[39msum()\u001b[39m.\u001b[39msort_values(ascending \u001b[39m=\u001b[39m \u001b[39mFalse\u001b[39;00m)\u001b[39m.\u001b[39mreset_index()\n\u001b[1;32m----> <a href='vscode-notebook-cell:/d%3A/UTY/Semester%207/Data%20Science/Seminar%20Nasional/Regresi-Dataset-Tanaman-Padi-Sumatera/Forecasting_Tanaman_Padi.ipynb#X15sZmlsZQ%3D%3D?line=2'>3</a>\u001b[0m fig \u001b[39m=\u001b[39m px\u001b[39m.\u001b[39mbar(df, y\u001b[39m=\u001b[39mtotal_produksi_prov[\u001b[39m'\u001b[39m\u001b[39mProduksi\u001b[39m\u001b[39m'\u001b[39m], x\u001b[39m=\u001b[39mtotal_produksi_prov[\u001b[39m'\u001b[39m\u001b[39mProvinsi\u001b[39m\u001b[39m'\u001b[39m], text_auto\u001b[39m=\u001b[39m\u001b[39m'\u001b[39m\u001b[39m.2s\u001b[39m\u001b[39m'\u001b[39m,template\u001b[39m=\u001b[39m\u001b[39m'\u001b[39m\u001b[39mplotly_dark\u001b[39m\u001b[39m'\u001b[39m,\n\u001b[0;32m      <a href='vscode-notebook-cell:/d%3A/UTY/Semester%207/Data%20Science/Seminar%20Nasional/Regresi-Dataset-Tanaman-Padi-Sumatera/Forecasting_Tanaman_Padi.ipynb#X15sZmlsZQ%3D%3D?line=3'>4</a>\u001b[0m              color \u001b[39m=\u001b[39m total_produksi_prov[\u001b[39m'\u001b[39m\u001b[39mProvinsi\u001b[39m\u001b[39m'\u001b[39m])\n\u001b[0;32m      <a href='vscode-notebook-cell:/d%3A/UTY/Semester%207/Data%20Science/Seminar%20Nasional/Regresi-Dataset-Tanaman-Padi-Sumatera/Forecasting_Tanaman_Padi.ipynb#X15sZmlsZQ%3D%3D?line=4'>5</a>\u001b[0m fig\u001b[39m.\u001b[39mupdate_layout(title\u001b[39m=\u001b[39m\u001b[39m'\u001b[39m\u001b[39mProduksi Padi Berdasar Provinsi\u001b[39m\u001b[39m'\u001b[39m,\n\u001b[0;32m      <a href='vscode-notebook-cell:/d%3A/UTY/Semester%207/Data%20Science/Seminar%20Nasional/Regresi-Dataset-Tanaman-Padi-Sumatera/Forecasting_Tanaman_Padi.ipynb#X15sZmlsZQ%3D%3D?line=5'>6</a>\u001b[0m                    xaxis_title\u001b[39m=\u001b[39m\u001b[39m'\u001b[39m\u001b[39mProvinsi\u001b[39m\u001b[39m'\u001b[39m,\n\u001b[0;32m      <a href='vscode-notebook-cell:/d%3A/UTY/Semester%207/Data%20Science/Seminar%20Nasional/Regresi-Dataset-Tanaman-Padi-Sumatera/Forecasting_Tanaman_Padi.ipynb#X15sZmlsZQ%3D%3D?line=6'>7</a>\u001b[0m                    yaxis_title\u001b[39m=\u001b[39m\u001b[39m'\u001b[39m\u001b[39mJumlah Produksi\u001b[39m\u001b[39m'\u001b[39m)\n\u001b[0;32m      <a href='vscode-notebook-cell:/d%3A/UTY/Semester%207/Data%20Science/Seminar%20Nasional/Regresi-Dataset-Tanaman-Padi-Sumatera/Forecasting_Tanaman_Padi.ipynb#X15sZmlsZQ%3D%3D?line=7'>8</a>\u001b[0m fig\u001b[39m.\u001b[39mshow()\n",
            "\u001b[1;31mNameError\u001b[0m: name 'px' is not defined"
          ]
        }
      ],
      "source": [
        "total_produksi_prov = df.groupby(['Provinsi'])['Produksi'].sum().sort_values(ascending = False).reset_index()\n",
        "\n",
        "fig = px.bar(df, y=total_produksi_prov['Produksi'], x=total_produksi_prov['Provinsi'], text_auto='.2s',template='plotly_dark',\n",
        "             color = total_produksi_prov['Provinsi'])\n",
        "fig.update_layout(title='Produksi Padi Berdasar Provinsi',\n",
        "                   xaxis_title='Provinsi',\n",
        "                   yaxis_title='Jumlah Produksi')\n",
        "fig.show()"
      ]
    },
    {
      "cell_type": "code",
      "execution_count": null,
      "metadata": {
        "colab": {
          "base_uri": "https://localhost:8080/",
          "height": 542
        },
        "id": "D_AJOPXqd1tx",
        "outputId": "950c2aa6-edfd-42d6-a389-c606ea08f63f"
      },
      "outputs": [
        {
          "data": {
            "application/vnd.plotly.v1+json": {
              "config": {
                "plotlyServerURL": "https://plot.ly"
              },
              "data": [
                {
                  "hovertemplate": "color=Aceh<br>x=%{x}<br>y=%{y}<extra></extra>",
                  "legendgroup": "Aceh",
                  "line": {
                    "color": "#636efa",
                    "dash": "solid"
                  },
                  "marker": {
                    "symbol": "circle"
                  },
                  "mode": "markers+lines",
                  "name": "Aceh",
                  "orientation": "v",
                  "showlegend": true,
                  "type": "scatter",
                  "x": [
                    1993,
                    1994,
                    1995,
                    1996,
                    1997,
                    1998,
                    1999,
                    2000,
                    2001,
                    2002,
                    2003,
                    2004,
                    2005,
                    2006,
                    2007,
                    2008,
                    2009,
                    2010,
                    2011,
                    2012,
                    2013,
                    2014,
                    2015,
                    2016,
                    2017,
                    2018,
                    2019,
                    2020
                  ],
                  "xaxis": "x",
                  "y": [
                    1329536,
                    1299699,
                    1382905,
                    1419128,
                    1368074,
                    1404580,
                    1478712,
                    1486909,
                    1547499,
                    1314165,
                    1246614,
                    1350748,
                    1411650,
                    1552078,
                    1556858,
                    1402287,
                    1533369,
                    1788738,
                    1772962,
                    1582393,
                    2331046,
                    1820062,
                    1956940,
                    2180754,
                    2478922,
                    1751996.94,
                    1714437.6,
                    1861567.1
                  ],
                  "yaxis": "y"
                },
                {
                  "hovertemplate": "color=Bengkulu<br>x=%{x}<br>y=%{y}<extra></extra>",
                  "legendgroup": "Bengkulu",
                  "line": {
                    "color": "#EF553B",
                    "dash": "solid"
                  },
                  "marker": {
                    "symbol": "circle"
                  },
                  "mode": "markers+lines",
                  "name": "Bengkulu",
                  "orientation": "v",
                  "showlegend": true,
                  "type": "scatter",
                  "x": [
                    1993,
                    1994,
                    1995,
                    1996,
                    1997,
                    1998,
                    1999,
                    2000,
                    2001,
                    2002,
                    2003,
                    2004,
                    2005,
                    2006,
                    2007,
                    2008,
                    2009,
                    2010,
                    2011,
                    2012,
                    2013,
                    2014,
                    2015,
                    2016,
                    2017,
                    2018,
                    2019,
                    2020
                  ],
                  "xaxis": "x",
                  "y": [
                    356709,
                    334232,
                    377337,
                    396977,
                    382123,
                    375533,
                    381577,
                    362979,
                    376973,
                    379818,
                    413375,
                    414741,
                    441276,
                    378377,
                    470469,
                    484900,
                    510160,
                    516869,
                    502552,
                    581910,
                    622832,
                    593194,
                    578654,
                    629224,
                    714017,
                    288810.52,
                    296472.07,
                    296925.16
                  ],
                  "yaxis": "y"
                },
                {
                  "hovertemplate": "color=Jambi<br>x=%{x}<br>y=%{y}<extra></extra>",
                  "legendgroup": "Jambi",
                  "line": {
                    "color": "#00cc96",
                    "dash": "solid"
                  },
                  "marker": {
                    "symbol": "circle"
                  },
                  "mode": "markers+lines",
                  "name": "Jambi",
                  "orientation": "v",
                  "showlegend": true,
                  "type": "scatter",
                  "x": [
                    1993,
                    1994,
                    1995,
                    1996,
                    1997,
                    1998,
                    1999,
                    2000,
                    2001,
                    2002,
                    2003,
                    2004,
                    2005,
                    2006,
                    2007,
                    2008,
                    2009,
                    2010,
                    2011,
                    2012,
                    2013,
                    2014,
                    2015,
                    2016,
                    2017,
                    2018,
                    2019,
                    2020
                  ],
                  "xaxis": "x",
                  "y": [
                    607529,
                    564722,
                    593502,
                    657650,
                    572269,
                    550277,
                    553641,
                    536779,
                    556564,
                    561007,
                    578346,
                    579404,
                    579635,
                    544597,
                    58663,
                    581704,
                    644947,
                    628828,
                    646641,
                    625164,
                    664535,
                    664720,
                    541486,
                    642095,
                    678127,
                    383045.74,
                    309932.68,
                    374376.27
                  ],
                  "yaxis": "y"
                },
                {
                  "hovertemplate": "color=Lampung<br>x=%{x}<br>y=%{y}<extra></extra>",
                  "legendgroup": "Lampung",
                  "line": {
                    "color": "#ab63fa",
                    "dash": "solid"
                  },
                  "marker": {
                    "symbol": "circle"
                  },
                  "mode": "markers+lines",
                  "name": "Lampung",
                  "orientation": "v",
                  "showlegend": true,
                  "type": "scatter",
                  "x": [
                    1993,
                    1994,
                    1995,
                    1996,
                    1997,
                    1998,
                    1999,
                    2000,
                    2001,
                    2002,
                    2003,
                    2004,
                    2005,
                    2006,
                    2007,
                    2008,
                    2009,
                    2010,
                    2011,
                    2012,
                    2013,
                    2014,
                    2015,
                    2016,
                    2017,
                    2018,
                    2019,
                    2020
                  ],
                  "xaxis": "x",
                  "y": [
                    1646900,
                    1615751,
                    1943709,
                    1971740,
                    1753656,
                    1975700,
                    1801422,
                    1946406,
                    1992726,
                    1951109,
                    1966293,
                    2091996,
                    2124144,
                    2129914,
                    2308404,
                    2341075,
                    2673844,
                    2807676,
                    2940795,
                    3101455,
                    3207002,
                    3320064,
                    3641895,
                    3831923,
                    4090654,
                    2488641.91,
                    2164089.33,
                    2604913.29
                  ],
                  "yaxis": "y"
                },
                {
                  "hovertemplate": "color=Riau<br>x=%{x}<br>y=%{y}<extra></extra>",
                  "legendgroup": "Riau",
                  "line": {
                    "color": "#FFA15A",
                    "dash": "solid"
                  },
                  "marker": {
                    "symbol": "circle"
                  },
                  "mode": "markers+lines",
                  "name": "Riau",
                  "orientation": "v",
                  "showlegend": true,
                  "type": "scatter",
                  "x": [
                    1993,
                    1994,
                    1995,
                    1996,
                    1997,
                    1998,
                    1999,
                    2000,
                    2001,
                    2002,
                    2003,
                    2004,
                    2005,
                    2006,
                    2007,
                    2008,
                    2009,
                    2010,
                    2011,
                    2012,
                    2013,
                    2014,
                    2015,
                    2016,
                    2017,
                    2018,
                    2019,
                    2020
                  ],
                  "xaxis": "x",
                  "y": [
                    436297,
                    445361,
                    458756,
                    461905,
                    416135,
                    370124,
                    461630,
                    431351,
                    413391,
                    396644,
                    414237,
                    454186,
                    424095,
                    42938,
                    490087,
                    494260,
                    531429,
                    574864,
                    535788,
                    512152,
                    434144,
                    385475,
                    393917,
                    325826,
                    337421,
                    266375.53,
                    230873.97,
                    269344.05
                  ],
                  "yaxis": "y"
                },
                {
                  "hovertemplate": "color=Sumatera Barat<br>x=%{x}<br>y=%{y}<extra></extra>",
                  "legendgroup": "Sumatera Barat",
                  "line": {
                    "color": "#19d3f3",
                    "dash": "solid"
                  },
                  "marker": {
                    "symbol": "circle"
                  },
                  "mode": "markers+lines",
                  "name": "Sumatera Barat",
                  "orientation": "v",
                  "showlegend": true,
                  "type": "scatter",
                  "x": [
                    1993,
                    1994,
                    1995,
                    1996,
                    1997,
                    1998,
                    1999,
                    2000,
                    2001,
                    2002,
                    2003,
                    2004,
                    2005,
                    2006,
                    2007,
                    2008,
                    2009,
                    2010,
                    2011,
                    2012,
                    2013,
                    2014,
                    2015,
                    2016,
                    2017,
                    2018,
                    2019,
                    2020
                  ],
                  "xaxis": "x",
                  "y": [
                    1806424,
                    1747543,
                    1829192,
                    1971180,
                    1787719,
                    1807622,
                    1897678,
                    1759059,
                    1668955,
                    1875834,
                    1823739,
                    1875188,
                    1907390,
                    1889489,
                    1938120,
                    1965634,
                    2105790,
                    2211248,
                    2279602,
                    2368390,
                    2430384,
                    2519020,
                    2550609,
                    2487929,
                    2810425,
                    1483076.48,
                    1482996.01,
                    1450839.74
                  ],
                  "yaxis": "y"
                },
                {
                  "hovertemplate": "color=Sumatera Selatan<br>x=%{x}<br>y=%{y}<extra></extra>",
                  "legendgroup": "Sumatera Selatan",
                  "line": {
                    "color": "#FF6692",
                    "dash": "solid"
                  },
                  "marker": {
                    "symbol": "circle"
                  },
                  "mode": "markers+lines",
                  "name": "Sumatera Selatan",
                  "orientation": "v",
                  "showlegend": true,
                  "type": "scatter",
                  "x": [
                    1993,
                    1994,
                    1995,
                    1996,
                    1997,
                    1998,
                    1999,
                    2000,
                    2001,
                    2002,
                    2003,
                    2004,
                    2005,
                    2006,
                    2007,
                    2008,
                    2009,
                    2010,
                    2011,
                    2012,
                    2013,
                    2014,
                    2015,
                    2016,
                    2017,
                    2018,
                    2019,
                    2020
                  ],
                  "xaxis": "x",
                  "y": [
                    1409559,
                    1347611,
                    1557944,
                    1666591,
                    1577398,
                    1931505,
                    1789961,
                    1863643,
                    1723433,
                    1899849,
                    1977345,
                    2260794,
                    2320110,
                    2456251,
                    2753044,
                    2971286,
                    3125236,
                    3272451,
                    3384670,
                    3295247,
                    3676723,
                    3670435,
                    4247922,
                    4881089,
                    4807430,
                    2994191.84,
                    2603396.24,
                    2696877.46
                  ],
                  "yaxis": "y"
                },
                {
                  "hovertemplate": "color=Sumatera Utara<br>x=%{x}<br>y=%{y}<extra></extra>",
                  "legendgroup": "Sumatera Utara",
                  "line": {
                    "color": "#B6E880",
                    "dash": "solid"
                  },
                  "marker": {
                    "symbol": "circle"
                  },
                  "mode": "markers+lines",
                  "name": "Sumatera Utara",
                  "orientation": "v",
                  "showlegend": true,
                  "type": "scatter",
                  "x": [
                    1993,
                    1994,
                    1995,
                    1996,
                    1997,
                    1998,
                    1999,
                    2000,
                    2001,
                    2002,
                    2003,
                    2004,
                    2005,
                    2006,
                    2007,
                    2008,
                    2009,
                    2010,
                    2011,
                    2012,
                    2013,
                    2014,
                    2015,
                    2016,
                    2017,
                    2018,
                    2019,
                    2020
                  ],
                  "xaxis": "x",
                  "y": [
                    2918152,
                    3079960,
                    3134533,
                    3136760,
                    3212208,
                    3321049,
                    3451430,
                    3514253,
                    3291515,
                    3153305,
                    3403075,
                    3418782,
                    3447394,
                    3007636,
                    3265834,
                    3340794,
                    3527899,
                    3582302,
                    3607403,
                    3715514,
                    3727249,
                    3631039,
                    4044829,
                    4387035.9,
                    4669777.5,
                    2108284.72,
                    2078901.59,
                    2076280.01
                  ],
                  "yaxis": "y"
                }
              ],
              "layout": {
                "legend": {
                  "title": {
                    "text": "color"
                  },
                  "tracegroupgap": 0
                },
                "margin": {
                  "t": 60
                },
                "template": {
                  "data": {
                    "bar": [
                      {
                        "error_x": {
                          "color": "#f2f5fa"
                        },
                        "error_y": {
                          "color": "#f2f5fa"
                        },
                        "marker": {
                          "line": {
                            "color": "rgb(17,17,17)",
                            "width": 0.5
                          },
                          "pattern": {
                            "fillmode": "overlay",
                            "size": 10,
                            "solidity": 0.2
                          }
                        },
                        "type": "bar"
                      }
                    ],
                    "barpolar": [
                      {
                        "marker": {
                          "line": {
                            "color": "rgb(17,17,17)",
                            "width": 0.5
                          },
                          "pattern": {
                            "fillmode": "overlay",
                            "size": 10,
                            "solidity": 0.2
                          }
                        },
                        "type": "barpolar"
                      }
                    ],
                    "carpet": [
                      {
                        "aaxis": {
                          "endlinecolor": "#A2B1C6",
                          "gridcolor": "#506784",
                          "linecolor": "#506784",
                          "minorgridcolor": "#506784",
                          "startlinecolor": "#A2B1C6"
                        },
                        "baxis": {
                          "endlinecolor": "#A2B1C6",
                          "gridcolor": "#506784",
                          "linecolor": "#506784",
                          "minorgridcolor": "#506784",
                          "startlinecolor": "#A2B1C6"
                        },
                        "type": "carpet"
                      }
                    ],
                    "choropleth": [
                      {
                        "colorbar": {
                          "outlinewidth": 0,
                          "ticks": ""
                        },
                        "type": "choropleth"
                      }
                    ],
                    "contour": [
                      {
                        "colorbar": {
                          "outlinewidth": 0,
                          "ticks": ""
                        },
                        "colorscale": [
                          [
                            0,
                            "#0d0887"
                          ],
                          [
                            0.1111111111111111,
                            "#46039f"
                          ],
                          [
                            0.2222222222222222,
                            "#7201a8"
                          ],
                          [
                            0.3333333333333333,
                            "#9c179e"
                          ],
                          [
                            0.4444444444444444,
                            "#bd3786"
                          ],
                          [
                            0.5555555555555556,
                            "#d8576b"
                          ],
                          [
                            0.6666666666666666,
                            "#ed7953"
                          ],
                          [
                            0.7777777777777778,
                            "#fb9f3a"
                          ],
                          [
                            0.8888888888888888,
                            "#fdca26"
                          ],
                          [
                            1,
                            "#f0f921"
                          ]
                        ],
                        "type": "contour"
                      }
                    ],
                    "contourcarpet": [
                      {
                        "colorbar": {
                          "outlinewidth": 0,
                          "ticks": ""
                        },
                        "type": "contourcarpet"
                      }
                    ],
                    "heatmap": [
                      {
                        "colorbar": {
                          "outlinewidth": 0,
                          "ticks": ""
                        },
                        "colorscale": [
                          [
                            0,
                            "#0d0887"
                          ],
                          [
                            0.1111111111111111,
                            "#46039f"
                          ],
                          [
                            0.2222222222222222,
                            "#7201a8"
                          ],
                          [
                            0.3333333333333333,
                            "#9c179e"
                          ],
                          [
                            0.4444444444444444,
                            "#bd3786"
                          ],
                          [
                            0.5555555555555556,
                            "#d8576b"
                          ],
                          [
                            0.6666666666666666,
                            "#ed7953"
                          ],
                          [
                            0.7777777777777778,
                            "#fb9f3a"
                          ],
                          [
                            0.8888888888888888,
                            "#fdca26"
                          ],
                          [
                            1,
                            "#f0f921"
                          ]
                        ],
                        "type": "heatmap"
                      }
                    ],
                    "heatmapgl": [
                      {
                        "colorbar": {
                          "outlinewidth": 0,
                          "ticks": ""
                        },
                        "colorscale": [
                          [
                            0,
                            "#0d0887"
                          ],
                          [
                            0.1111111111111111,
                            "#46039f"
                          ],
                          [
                            0.2222222222222222,
                            "#7201a8"
                          ],
                          [
                            0.3333333333333333,
                            "#9c179e"
                          ],
                          [
                            0.4444444444444444,
                            "#bd3786"
                          ],
                          [
                            0.5555555555555556,
                            "#d8576b"
                          ],
                          [
                            0.6666666666666666,
                            "#ed7953"
                          ],
                          [
                            0.7777777777777778,
                            "#fb9f3a"
                          ],
                          [
                            0.8888888888888888,
                            "#fdca26"
                          ],
                          [
                            1,
                            "#f0f921"
                          ]
                        ],
                        "type": "heatmapgl"
                      }
                    ],
                    "histogram": [
                      {
                        "marker": {
                          "pattern": {
                            "fillmode": "overlay",
                            "size": 10,
                            "solidity": 0.2
                          }
                        },
                        "type": "histogram"
                      }
                    ],
                    "histogram2d": [
                      {
                        "colorbar": {
                          "outlinewidth": 0,
                          "ticks": ""
                        },
                        "colorscale": [
                          [
                            0,
                            "#0d0887"
                          ],
                          [
                            0.1111111111111111,
                            "#46039f"
                          ],
                          [
                            0.2222222222222222,
                            "#7201a8"
                          ],
                          [
                            0.3333333333333333,
                            "#9c179e"
                          ],
                          [
                            0.4444444444444444,
                            "#bd3786"
                          ],
                          [
                            0.5555555555555556,
                            "#d8576b"
                          ],
                          [
                            0.6666666666666666,
                            "#ed7953"
                          ],
                          [
                            0.7777777777777778,
                            "#fb9f3a"
                          ],
                          [
                            0.8888888888888888,
                            "#fdca26"
                          ],
                          [
                            1,
                            "#f0f921"
                          ]
                        ],
                        "type": "histogram2d"
                      }
                    ],
                    "histogram2dcontour": [
                      {
                        "colorbar": {
                          "outlinewidth": 0,
                          "ticks": ""
                        },
                        "colorscale": [
                          [
                            0,
                            "#0d0887"
                          ],
                          [
                            0.1111111111111111,
                            "#46039f"
                          ],
                          [
                            0.2222222222222222,
                            "#7201a8"
                          ],
                          [
                            0.3333333333333333,
                            "#9c179e"
                          ],
                          [
                            0.4444444444444444,
                            "#bd3786"
                          ],
                          [
                            0.5555555555555556,
                            "#d8576b"
                          ],
                          [
                            0.6666666666666666,
                            "#ed7953"
                          ],
                          [
                            0.7777777777777778,
                            "#fb9f3a"
                          ],
                          [
                            0.8888888888888888,
                            "#fdca26"
                          ],
                          [
                            1,
                            "#f0f921"
                          ]
                        ],
                        "type": "histogram2dcontour"
                      }
                    ],
                    "mesh3d": [
                      {
                        "colorbar": {
                          "outlinewidth": 0,
                          "ticks": ""
                        },
                        "type": "mesh3d"
                      }
                    ],
                    "parcoords": [
                      {
                        "line": {
                          "colorbar": {
                            "outlinewidth": 0,
                            "ticks": ""
                          }
                        },
                        "type": "parcoords"
                      }
                    ],
                    "pie": [
                      {
                        "automargin": true,
                        "type": "pie"
                      }
                    ],
                    "scatter": [
                      {
                        "marker": {
                          "line": {
                            "color": "#283442"
                          }
                        },
                        "type": "scatter"
                      }
                    ],
                    "scatter3d": [
                      {
                        "line": {
                          "colorbar": {
                            "outlinewidth": 0,
                            "ticks": ""
                          }
                        },
                        "marker": {
                          "colorbar": {
                            "outlinewidth": 0,
                            "ticks": ""
                          }
                        },
                        "type": "scatter3d"
                      }
                    ],
                    "scattercarpet": [
                      {
                        "marker": {
                          "colorbar": {
                            "outlinewidth": 0,
                            "ticks": ""
                          }
                        },
                        "type": "scattercarpet"
                      }
                    ],
                    "scattergeo": [
                      {
                        "marker": {
                          "colorbar": {
                            "outlinewidth": 0,
                            "ticks": ""
                          }
                        },
                        "type": "scattergeo"
                      }
                    ],
                    "scattergl": [
                      {
                        "marker": {
                          "line": {
                            "color": "#283442"
                          }
                        },
                        "type": "scattergl"
                      }
                    ],
                    "scattermapbox": [
                      {
                        "marker": {
                          "colorbar": {
                            "outlinewidth": 0,
                            "ticks": ""
                          }
                        },
                        "type": "scattermapbox"
                      }
                    ],
                    "scatterpolar": [
                      {
                        "marker": {
                          "colorbar": {
                            "outlinewidth": 0,
                            "ticks": ""
                          }
                        },
                        "type": "scatterpolar"
                      }
                    ],
                    "scatterpolargl": [
                      {
                        "marker": {
                          "colorbar": {
                            "outlinewidth": 0,
                            "ticks": ""
                          }
                        },
                        "type": "scatterpolargl"
                      }
                    ],
                    "scatterternary": [
                      {
                        "marker": {
                          "colorbar": {
                            "outlinewidth": 0,
                            "ticks": ""
                          }
                        },
                        "type": "scatterternary"
                      }
                    ],
                    "surface": [
                      {
                        "colorbar": {
                          "outlinewidth": 0,
                          "ticks": ""
                        },
                        "colorscale": [
                          [
                            0,
                            "#0d0887"
                          ],
                          [
                            0.1111111111111111,
                            "#46039f"
                          ],
                          [
                            0.2222222222222222,
                            "#7201a8"
                          ],
                          [
                            0.3333333333333333,
                            "#9c179e"
                          ],
                          [
                            0.4444444444444444,
                            "#bd3786"
                          ],
                          [
                            0.5555555555555556,
                            "#d8576b"
                          ],
                          [
                            0.6666666666666666,
                            "#ed7953"
                          ],
                          [
                            0.7777777777777778,
                            "#fb9f3a"
                          ],
                          [
                            0.8888888888888888,
                            "#fdca26"
                          ],
                          [
                            1,
                            "#f0f921"
                          ]
                        ],
                        "type": "surface"
                      }
                    ],
                    "table": [
                      {
                        "cells": {
                          "fill": {
                            "color": "#506784"
                          },
                          "line": {
                            "color": "rgb(17,17,17)"
                          }
                        },
                        "header": {
                          "fill": {
                            "color": "#2a3f5f"
                          },
                          "line": {
                            "color": "rgb(17,17,17)"
                          }
                        },
                        "type": "table"
                      }
                    ]
                  },
                  "layout": {
                    "annotationdefaults": {
                      "arrowcolor": "#f2f5fa",
                      "arrowhead": 0,
                      "arrowwidth": 1
                    },
                    "autotypenumbers": "strict",
                    "coloraxis": {
                      "colorbar": {
                        "outlinewidth": 0,
                        "ticks": ""
                      }
                    },
                    "colorscale": {
                      "diverging": [
                        [
                          0,
                          "#8e0152"
                        ],
                        [
                          0.1,
                          "#c51b7d"
                        ],
                        [
                          0.2,
                          "#de77ae"
                        ],
                        [
                          0.3,
                          "#f1b6da"
                        ],
                        [
                          0.4,
                          "#fde0ef"
                        ],
                        [
                          0.5,
                          "#f7f7f7"
                        ],
                        [
                          0.6,
                          "#e6f5d0"
                        ],
                        [
                          0.7,
                          "#b8e186"
                        ],
                        [
                          0.8,
                          "#7fbc41"
                        ],
                        [
                          0.9,
                          "#4d9221"
                        ],
                        [
                          1,
                          "#276419"
                        ]
                      ],
                      "sequential": [
                        [
                          0,
                          "#0d0887"
                        ],
                        [
                          0.1111111111111111,
                          "#46039f"
                        ],
                        [
                          0.2222222222222222,
                          "#7201a8"
                        ],
                        [
                          0.3333333333333333,
                          "#9c179e"
                        ],
                        [
                          0.4444444444444444,
                          "#bd3786"
                        ],
                        [
                          0.5555555555555556,
                          "#d8576b"
                        ],
                        [
                          0.6666666666666666,
                          "#ed7953"
                        ],
                        [
                          0.7777777777777778,
                          "#fb9f3a"
                        ],
                        [
                          0.8888888888888888,
                          "#fdca26"
                        ],
                        [
                          1,
                          "#f0f921"
                        ]
                      ],
                      "sequentialminus": [
                        [
                          0,
                          "#0d0887"
                        ],
                        [
                          0.1111111111111111,
                          "#46039f"
                        ],
                        [
                          0.2222222222222222,
                          "#7201a8"
                        ],
                        [
                          0.3333333333333333,
                          "#9c179e"
                        ],
                        [
                          0.4444444444444444,
                          "#bd3786"
                        ],
                        [
                          0.5555555555555556,
                          "#d8576b"
                        ],
                        [
                          0.6666666666666666,
                          "#ed7953"
                        ],
                        [
                          0.7777777777777778,
                          "#fb9f3a"
                        ],
                        [
                          0.8888888888888888,
                          "#fdca26"
                        ],
                        [
                          1,
                          "#f0f921"
                        ]
                      ]
                    },
                    "colorway": [
                      "#636efa",
                      "#EF553B",
                      "#00cc96",
                      "#ab63fa",
                      "#FFA15A",
                      "#19d3f3",
                      "#FF6692",
                      "#B6E880",
                      "#FF97FF",
                      "#FECB52"
                    ],
                    "font": {
                      "color": "#f2f5fa"
                    },
                    "geo": {
                      "bgcolor": "rgb(17,17,17)",
                      "lakecolor": "rgb(17,17,17)",
                      "landcolor": "rgb(17,17,17)",
                      "showlakes": true,
                      "showland": true,
                      "subunitcolor": "#506784"
                    },
                    "hoverlabel": {
                      "align": "left"
                    },
                    "hovermode": "closest",
                    "mapbox": {
                      "style": "dark"
                    },
                    "paper_bgcolor": "rgb(17,17,17)",
                    "plot_bgcolor": "rgb(17,17,17)",
                    "polar": {
                      "angularaxis": {
                        "gridcolor": "#506784",
                        "linecolor": "#506784",
                        "ticks": ""
                      },
                      "bgcolor": "rgb(17,17,17)",
                      "radialaxis": {
                        "gridcolor": "#506784",
                        "linecolor": "#506784",
                        "ticks": ""
                      }
                    },
                    "scene": {
                      "xaxis": {
                        "backgroundcolor": "rgb(17,17,17)",
                        "gridcolor": "#506784",
                        "gridwidth": 2,
                        "linecolor": "#506784",
                        "showbackground": true,
                        "ticks": "",
                        "zerolinecolor": "#C8D4E3"
                      },
                      "yaxis": {
                        "backgroundcolor": "rgb(17,17,17)",
                        "gridcolor": "#506784",
                        "gridwidth": 2,
                        "linecolor": "#506784",
                        "showbackground": true,
                        "ticks": "",
                        "zerolinecolor": "#C8D4E3"
                      },
                      "zaxis": {
                        "backgroundcolor": "rgb(17,17,17)",
                        "gridcolor": "#506784",
                        "gridwidth": 2,
                        "linecolor": "#506784",
                        "showbackground": true,
                        "ticks": "",
                        "zerolinecolor": "#C8D4E3"
                      }
                    },
                    "shapedefaults": {
                      "line": {
                        "color": "#f2f5fa"
                      }
                    },
                    "sliderdefaults": {
                      "bgcolor": "#C8D4E3",
                      "bordercolor": "rgb(17,17,17)",
                      "borderwidth": 1,
                      "tickwidth": 0
                    },
                    "ternary": {
                      "aaxis": {
                        "gridcolor": "#506784",
                        "linecolor": "#506784",
                        "ticks": ""
                      },
                      "baxis": {
                        "gridcolor": "#506784",
                        "linecolor": "#506784",
                        "ticks": ""
                      },
                      "bgcolor": "rgb(17,17,17)",
                      "caxis": {
                        "gridcolor": "#506784",
                        "linecolor": "#506784",
                        "ticks": ""
                      }
                    },
                    "title": {
                      "x": 0.05
                    },
                    "updatemenudefaults": {
                      "bgcolor": "#506784",
                      "borderwidth": 0
                    },
                    "xaxis": {
                      "automargin": true,
                      "gridcolor": "#283442",
                      "linecolor": "#506784",
                      "ticks": "",
                      "title": {
                        "standoff": 15
                      },
                      "zerolinecolor": "#283442",
                      "zerolinewidth": 2
                    },
                    "yaxis": {
                      "automargin": true,
                      "gridcolor": "#283442",
                      "linecolor": "#506784",
                      "ticks": "",
                      "title": {
                        "standoff": 15
                      },
                      "zerolinecolor": "#283442",
                      "zerolinewidth": 2
                    }
                  }
                },
                "title": {
                  "text": "Produksi Padi Dari Tahun ke Tahun Berdasarkan Provinsi"
                },
                "xaxis": {
                  "anchor": "y",
                  "domain": [
                    0,
                    1
                  ],
                  "title": {
                    "text": "Tahun"
                  }
                },
                "yaxis": {
                  "anchor": "x",
                  "domain": [
                    0,
                    1
                  ],
                  "title": {
                    "text": "Jumlah Produksi"
                  }
                }
              }
            }
          },
          "metadata": {},
          "output_type": "display_data"
        }
      ],
      "source": [
        "timeline_prov = df.groupby(['Provinsi','Tahun'] )['Produksi'].sum().reset_index()\n",
        "\n",
        "fig = px.line(x = timeline_prov['Tahun'], y = timeline_prov['Produksi'],color =timeline_prov['Provinsi'], template='plotly_dark', markers=True)\n",
        "fig.update_layout(title='Produksi Padi Dari Tahun ke Tahun Berdasarkan Provinsi',\n",
        "                   xaxis_title='Tahun',\n",
        "                   yaxis_title='Jumlah Produksi')\n",
        "fig.show()"
      ]
    },
    {
      "cell_type": "markdown",
      "metadata": {},
      "source": [
        "# Preprocessing"
      ]
    },
    {
      "cell_type": "code",
      "execution_count": null,
      "metadata": {},
      "outputs": [
        {
          "data": {
            "text/html": [
              "<div>\n",
              "<style scoped>\n",
              "    .dataframe tbody tr th:only-of-type {\n",
              "        vertical-align: middle;\n",
              "    }\n",
              "\n",
              "    .dataframe tbody tr th {\n",
              "        vertical-align: top;\n",
              "    }\n",
              "\n",
              "    .dataframe thead th {\n",
              "        text-align: right;\n",
              "    }\n",
              "</style>\n",
              "<table border=\"1\" class=\"dataframe\">\n",
              "  <thead>\n",
              "    <tr style=\"text-align: right;\">\n",
              "      <th></th>\n",
              "      <th>Provinsi</th>\n",
              "      <th>Produksi</th>\n",
              "      <th>Luas Panen</th>\n",
              "      <th>Curah hujan</th>\n",
              "      <th>Kelembapan</th>\n",
              "      <th>Suhu rata-rata</th>\n",
              "    </tr>\n",
              "    <tr>\n",
              "      <th>Tahun</th>\n",
              "      <th></th>\n",
              "      <th></th>\n",
              "      <th></th>\n",
              "      <th></th>\n",
              "      <th></th>\n",
              "      <th></th>\n",
              "    </tr>\n",
              "  </thead>\n",
              "  <tbody>\n",
              "    <tr>\n",
              "      <th>1993</th>\n",
              "      <td>Aceh</td>\n",
              "      <td>1329536.0</td>\n",
              "      <td>323589.0</td>\n",
              "      <td>1627.0</td>\n",
              "      <td>82.00</td>\n",
              "      <td>26.06</td>\n",
              "    </tr>\n",
              "    <tr>\n",
              "      <th>1994</th>\n",
              "      <td>Aceh</td>\n",
              "      <td>1299699.0</td>\n",
              "      <td>329041.0</td>\n",
              "      <td>1521.0</td>\n",
              "      <td>82.12</td>\n",
              "      <td>26.92</td>\n",
              "    </tr>\n",
              "    <tr>\n",
              "      <th>1995</th>\n",
              "      <td>Aceh</td>\n",
              "      <td>1382905.0</td>\n",
              "      <td>339253.0</td>\n",
              "      <td>1476.0</td>\n",
              "      <td>82.72</td>\n",
              "      <td>26.27</td>\n",
              "    </tr>\n",
              "    <tr>\n",
              "      <th>1996</th>\n",
              "      <td>Aceh</td>\n",
              "      <td>1419128.0</td>\n",
              "      <td>348223.0</td>\n",
              "      <td>1557.0</td>\n",
              "      <td>83.00</td>\n",
              "      <td>26.08</td>\n",
              "    </tr>\n",
              "    <tr>\n",
              "      <th>1997</th>\n",
              "      <td>Aceh</td>\n",
              "      <td>1368074.0</td>\n",
              "      <td>337561.0</td>\n",
              "      <td>1339.0</td>\n",
              "      <td>82.46</td>\n",
              "      <td>26.31</td>\n",
              "    </tr>\n",
              "  </tbody>\n",
              "</table>\n",
              "</div>"
            ],
            "text/plain": [
              "      Provinsi   Produksi  Luas Panen  Curah hujan  Kelembapan  Suhu rata-rata\n",
              "Tahun                                                                         \n",
              "1993      Aceh  1329536.0    323589.0       1627.0       82.00           26.06\n",
              "1994      Aceh  1299699.0    329041.0       1521.0       82.12           26.92\n",
              "1995      Aceh  1382905.0    339253.0       1476.0       82.72           26.27\n",
              "1996      Aceh  1419128.0    348223.0       1557.0       83.00           26.08\n",
              "1997      Aceh  1368074.0    337561.0       1339.0       82.46           26.31"
            ]
          },
          "execution_count": 16,
          "metadata": {},
          "output_type": "execute_result"
        }
      ],
      "source": [
        "df_copy = df.copy()\n",
        "\n",
        "df_copy.set_index(\"Tahun\", inplace=True)\n",
        "df_copy.head()"
      ]
    },
    {
      "cell_type": "code",
      "execution_count": null,
      "metadata": {},
      "outputs": [
        {
          "data": {
            "text/plain": [
              "array(['Aceh', 'Sumatera Utara', 'Sumatera Barat', 'Riau', 'Jambi',\n",
              "       'Sumatera Selatan', 'Bengkulu', 'Lampung'], dtype=object)"
            ]
          },
          "execution_count": 17,
          "metadata": {},
          "output_type": "execute_result"
        }
      ],
      "source": [
        "df_copy['Provinsi'].unique()"
      ]
    },
    {
      "cell_type": "markdown",
      "metadata": {},
      "source": [
        "# Analisis Forecasting"
      ]
    },
    {
      "cell_type": "code",
      "execution_count": null,
      "metadata": {},
      "outputs": [],
      "source": [
        "# Fungsi Konversi ke timeseries\n",
        "def prepare_data_for_lstm(df, province, n_past=3, n_future=1, test_size=7, drop_columns=['Provinsi']):\n",
        "    # Filter and split the dataset\n",
        "    province_df = df[df['Provinsi'] == province]\n",
        "    if drop_columns:\n",
        "        province_df = province_df.drop(columns=drop_columns)\n",
        "    df_train = province_df[:-test_size]\n",
        "    df_test = province_df[-test_size - n_past:]\n",
        "\n",
        "    scaler = MinMaxScaler()\n",
        "    columns = (['Produksi', 'Luas Panen', 'Curah hujan', 'Kelembapan', 'Suhu rata-rata'])\n",
        "    df_train = scaler.fit_transform(df_train)\n",
        "    df_test = scaler.transform(df_test)\n",
        "\n",
        "    # Prepare training and testing sequences\n",
        "    df_train = np.array(df_train)\n",
        "    df_test = np.array(df_test)\n",
        "    X, y = [], []\n",
        "    for i in range(n_past, len(df_train) - n_future+1):\n",
        "      X.append(df_train[i - n_past:i, 1:df_train.shape[1]])\n",
        "      y.append(df_train[i + n_future - 1:i + n_future, 0])\n",
        "    X_train, y_train = np.array(X), np.array(y)\n",
        "\n",
        "    X, y = [], []\n",
        "    for i in range(n_past, len(df_test) - n_future+1):\n",
        "      X.append(df_test[i - n_past:i, 1:df_test.shape[1]])\n",
        "      y.append(df_test[i + n_future - 1:i + n_future, 0])\n",
        "    X_test, y_test = np.array(X), np.array(y)\n",
        "\n",
        "    return X_train, y_train, X_test, y_test"
      ]
    },
    {
      "cell_type": "code",
      "execution_count": null,
      "metadata": {},
      "outputs": [],
      "source": [
        "def create_lstm_model(X_train, y_train, epoch):\n",
        "    model = Sequential()\n",
        "    model.add(LSTM(64, input_shape=(X_train.shape[1], X_train.shape[2]), return_sequences=True))\n",
        "    model.add(Dropout(0.2))\n",
        "    model.add(LSTM(32, return_sequences=True))\n",
        "    model.add(Dropout(0.2))\n",
        "    model.add(LSTM(16, return_sequences=False))\n",
        "    model.add(Dense(32, activation='relu'))\n",
        "    model.add(Dropout(0.2))\n",
        "    model.add(Dense(y_train.shape[1]))\n",
        "\n",
        "    model.compile(loss='mse', optimizer=Adam(learning_rate=0.001), metrics=[RootMeanSquaredError()])\n",
        "\n",
        "    history = model.fit(X_train, y_train, epochs=epoch, validation_split=0.1, shuffle=False, verbose=0, callbacks=[TqdmCallback(verbose=1)])\n",
        "\n",
        "    return model, history"
      ]
    },
    {
      "cell_type": "markdown",
      "metadata": {},
      "source": [
        "# Implementasi"
      ]
    },
    {
      "cell_type": "markdown",
      "metadata": {},
      "source": [
        "### 1.Aceh"
      ]
    },
    {
      "cell_type": "code",
      "execution_count": null,
      "metadata": {},
      "outputs": [
        {
          "data": {
            "text/html": [
              "<div>\n",
              "<style scoped>\n",
              "    .dataframe tbody tr th:only-of-type {\n",
              "        vertical-align: middle;\n",
              "    }\n",
              "\n",
              "    .dataframe tbody tr th {\n",
              "        vertical-align: top;\n",
              "    }\n",
              "\n",
              "    .dataframe thead th {\n",
              "        text-align: right;\n",
              "    }\n",
              "</style>\n",
              "<table border=\"1\" class=\"dataframe\">\n",
              "  <thead>\n",
              "    <tr style=\"text-align: right;\">\n",
              "      <th></th>\n",
              "      <th>Provinsi</th>\n",
              "      <th>Tahun</th>\n",
              "      <th>Produksi</th>\n",
              "      <th>Luas Panen</th>\n",
              "      <th>Curah hujan</th>\n",
              "      <th>Kelembapan</th>\n",
              "      <th>Suhu rata-rata</th>\n",
              "    </tr>\n",
              "  </thead>\n",
              "  <tbody>\n",
              "    <tr>\n",
              "      <th>0</th>\n",
              "      <td>Aceh</td>\n",
              "      <td>1993</td>\n",
              "      <td>1329536.00</td>\n",
              "      <td>323589.00</td>\n",
              "      <td>1627.0</td>\n",
              "      <td>82.00</td>\n",
              "      <td>26.06</td>\n",
              "    </tr>\n",
              "    <tr>\n",
              "      <th>1</th>\n",
              "      <td>Aceh</td>\n",
              "      <td>1994</td>\n",
              "      <td>1299699.00</td>\n",
              "      <td>329041.00</td>\n",
              "      <td>1521.0</td>\n",
              "      <td>82.12</td>\n",
              "      <td>26.92</td>\n",
              "    </tr>\n",
              "    <tr>\n",
              "      <th>2</th>\n",
              "      <td>Aceh</td>\n",
              "      <td>1995</td>\n",
              "      <td>1382905.00</td>\n",
              "      <td>339253.00</td>\n",
              "      <td>1476.0</td>\n",
              "      <td>82.72</td>\n",
              "      <td>26.27</td>\n",
              "    </tr>\n",
              "    <tr>\n",
              "      <th>3</th>\n",
              "      <td>Aceh</td>\n",
              "      <td>1996</td>\n",
              "      <td>1419128.00</td>\n",
              "      <td>348223.00</td>\n",
              "      <td>1557.0</td>\n",
              "      <td>83.00</td>\n",
              "      <td>26.08</td>\n",
              "    </tr>\n",
              "    <tr>\n",
              "      <th>4</th>\n",
              "      <td>Aceh</td>\n",
              "      <td>1997</td>\n",
              "      <td>1368074.00</td>\n",
              "      <td>337561.00</td>\n",
              "      <td>1339.0</td>\n",
              "      <td>82.46</td>\n",
              "      <td>26.31</td>\n",
              "    </tr>\n",
              "    <tr>\n",
              "      <th>...</th>\n",
              "      <td>...</td>\n",
              "      <td>...</td>\n",
              "      <td>...</td>\n",
              "      <td>...</td>\n",
              "      <td>...</td>\n",
              "      <td>...</td>\n",
              "      <td>...</td>\n",
              "    </tr>\n",
              "    <tr>\n",
              "      <th>219</th>\n",
              "      <td>Lampung</td>\n",
              "      <td>2016</td>\n",
              "      <td>3831923.00</td>\n",
              "      <td>390799.00</td>\n",
              "      <td>2317.6</td>\n",
              "      <td>79.40</td>\n",
              "      <td>26.45</td>\n",
              "    </tr>\n",
              "    <tr>\n",
              "      <th>220</th>\n",
              "      <td>Lampung</td>\n",
              "      <td>2017</td>\n",
              "      <td>4090654.00</td>\n",
              "      <td>396559.00</td>\n",
              "      <td>1825.1</td>\n",
              "      <td>77.04</td>\n",
              "      <td>26.36</td>\n",
              "    </tr>\n",
              "    <tr>\n",
              "      <th>221</th>\n",
              "      <td>Lampung</td>\n",
              "      <td>2018</td>\n",
              "      <td>2488641.91</td>\n",
              "      <td>511940.93</td>\n",
              "      <td>1385.8</td>\n",
              "      <td>76.05</td>\n",
              "      <td>25.50</td>\n",
              "    </tr>\n",
              "    <tr>\n",
              "      <th>222</th>\n",
              "      <td>Lampung</td>\n",
              "      <td>2019</td>\n",
              "      <td>2164089.33</td>\n",
              "      <td>464103.42</td>\n",
              "      <td>1706.4</td>\n",
              "      <td>78.03</td>\n",
              "      <td>27.23</td>\n",
              "    </tr>\n",
              "    <tr>\n",
              "      <th>223</th>\n",
              "      <td>Lampung</td>\n",
              "      <td>2020</td>\n",
              "      <td>2604913.29</td>\n",
              "      <td>545149.05</td>\n",
              "      <td>2211.3</td>\n",
              "      <td>75.80</td>\n",
              "      <td>24.58</td>\n",
              "    </tr>\n",
              "  </tbody>\n",
              "</table>\n",
              "<p>224 rows × 7 columns</p>\n",
              "</div>"
            ],
            "text/plain": [
              "    Provinsi  Tahun    Produksi  Luas Panen  Curah hujan  Kelembapan  \\\n",
              "0       Aceh   1993  1329536.00   323589.00       1627.0       82.00   \n",
              "1       Aceh   1994  1299699.00   329041.00       1521.0       82.12   \n",
              "2       Aceh   1995  1382905.00   339253.00       1476.0       82.72   \n",
              "3       Aceh   1996  1419128.00   348223.00       1557.0       83.00   \n",
              "4       Aceh   1997  1368074.00   337561.00       1339.0       82.46   \n",
              "..       ...    ...         ...         ...          ...         ...   \n",
              "219  Lampung   2016  3831923.00   390799.00       2317.6       79.40   \n",
              "220  Lampung   2017  4090654.00   396559.00       1825.1       77.04   \n",
              "221  Lampung   2018  2488641.91   511940.93       1385.8       76.05   \n",
              "222  Lampung   2019  2164089.33   464103.42       1706.4       78.03   \n",
              "223  Lampung   2020  2604913.29   545149.05       2211.3       75.80   \n",
              "\n",
              "     Suhu rata-rata  \n",
              "0             26.06  \n",
              "1             26.92  \n",
              "2             26.27  \n",
              "3             26.08  \n",
              "4             26.31  \n",
              "..              ...  \n",
              "219           26.45  \n",
              "220           26.36  \n",
              "221           25.50  \n",
              "222           27.23  \n",
              "223           24.58  \n",
              "\n",
              "[224 rows x 7 columns]"
            ]
          },
          "execution_count": 20,
          "metadata": {},
          "output_type": "execute_result"
        }
      ],
      "source": [
        "df[:]"
      ]
    },
    {
      "cell_type": "code",
      "execution_count": null,
      "metadata": {},
      "outputs": [
        {
          "data": {
            "text/plain": [
              "(18, 3, 4)"
            ]
          },
          "execution_count": 21,
          "metadata": {},
          "output_type": "execute_result"
        }
      ],
      "source": [
        "(18, 3, 4)"
      ]
    },
    {
      "cell_type": "code",
      "execution_count": 34,
      "metadata": {},
      "outputs": [
        {
          "name": "stderr",
          "output_type": "stream",
          "text": [
            "100%|██████████| 500/500 [00:21<00:00, 23.76epoch/s, loss=0.00672, root_mean_squared_error=0.082, val_loss=0.126, val_root_mean_squared_error=0.355] \n"
          ]
        }
      ],
      "source": [
        "X_train_aceh, y_train_aceh, X_test_aceh, y_test_aceh = prepare_data_for_lstm(df_copy, 'Aceh', n_past=3, n_future=1, test_size=7,)\n",
        "model, history = create_lstm_model(X_train_aceh, y_train_aceh, epoch=500)"
      ]
    },
    {
      "cell_type": "code",
      "execution_count": 35,
      "metadata": {},
      "outputs": [
        {
          "name": "stdout",
          "output_type": "stream",
          "text": [
            "              Feature_1  Feature_2  Feature_3  Feature_4\n",
            "Sequence_1 0   0.272878   0.685705   0.611899   0.257485\n",
            "           1   0.355252   0.655289   0.639359   0.062874\n",
            "           2   0.427608   0.710037   0.652174   0.005988\n",
            "Sequence_2 0   0.355252   0.655289   0.639359   0.062874\n",
            "           1   0.427608   0.710037   0.652174   0.005988\n",
            "           2   0.341604   0.562690   0.627460   0.074850\n",
            "Sequence_3 0   0.427608   0.710037   0.652174   0.005988\n",
            "           1   0.341604   0.562690   0.627460   0.074850\n",
            "           2   0.570133   0.647854   0.633867   0.233533\n",
            "Sequence_4 0   0.341604   0.562690   0.627460   0.074850\n",
            "           1   0.570133   0.647854   0.633867   0.233533\n",
            "           2   0.521130   0.859412   0.642563   0.023952\n"
          ]
        }
      ],
      "source": [
        "import pandas as pd\n",
        "import numpy as np\n",
        "\n",
        "# Misalkan arr adalah array (18, 3, 4)\n",
        "arr = X_train_aceh[1:5]  # Gantilah ini dengan array sesuai kebutuhan\n",
        "\n",
        "# Mengonversi array ke DataFrame\n",
        "df_list = []\n",
        "\n",
        "for i in range(arr.shape[0]):\n",
        "    df_i = pd.DataFrame(arr[i], columns=[f'Feature_{j+1}' for j in range(arr.shape[2])])\n",
        "    df_list.append(df_i)\n",
        "\n",
        "df_combined = pd.concat(df_list, keys=[f'Sequence_{i+1}' for i in range(arr.shape[0])])\n",
        "\n",
        "# Menampilkan DataFrame\n",
        "print(df_combined)\n"
      ]
    },
    {
      "cell_type": "code",
      "execution_count": 36,
      "metadata": {},
      "outputs": [
        {
          "name": "stdout",
          "output_type": "stream",
          "text": [
            "Model: \"sequential\"\n",
            "_________________________________________________________________\n",
            " Layer (type)                Output Shape              Param #   \n",
            "=================================================================\n",
            " lstm (LSTM)                 (None, 3, 64)             17664     \n",
            "                                                                 \n",
            " dropout (Dropout)           (None, 3, 64)             0         \n",
            "                                                                 \n",
            " lstm_1 (LSTM)               (None, 3, 32)             12416     \n",
            "                                                                 \n",
            " dropout_1 (Dropout)         (None, 3, 32)             0         \n",
            "                                                                 \n",
            " lstm_2 (LSTM)               (None, 16)                3136      \n",
            "                                                                 \n",
            " dense (Dense)               (None, 32)                544       \n",
            "                                                                 \n",
            " dropout_2 (Dropout)         (None, 32)                0         \n",
            "                                                                 \n",
            " dense_1 (Dense)             (None, 1)                 33        \n",
            "                                                                 \n",
            "=================================================================\n",
            "Total params: 33,793\n",
            "Trainable params: 33,793\n",
            "Non-trainable params: 0\n",
            "_________________________________________________________________\n"
          ]
        }
      ],
      "source": [
        "model.summary()"
      ]
    },
    {
      "cell_type": "code",
      "execution_count": 37,
      "metadata": {},
      "outputs": [
        {
          "data": {
            "image/png": "[encoded data removed]",
            "text/plain": [
              "<Figure size 432x288 with 1 Axes>"
            ]
          },
          "metadata": {
            "needs_background": "light"
          },
          "output_type": "display_data"
        }
      ],
      "source": [
        "# Grafik Loss\n",
        "plt.figure()\n",
        "plt.plot(history.history['loss'], label='Training Loss')\n",
        "plt.plot(history.history['val_loss'], label='Validation Loss')\n",
        "plt.title('Training and Validation Loss')\n",
        "plt.xlabel('Epochs')\n",
        "plt.ylabel('Loss')\n",
        "plt.legend()\n",
        "plt.show()"
      ]
    },
    {
      "cell_type": "code",
      "execution_count": 38,
      "metadata": {},
      "outputs": [
        {
          "data": {
            "text/html": [
              "<div>\n",
              "<style scoped>\n",
              "    .dataframe tbody tr th:only-of-type {\n",
              "        vertical-align: middle;\n",
              "    }\n",
              "\n",
              "    .dataframe tbody tr th {\n",
              "        vertical-align: top;\n",
              "    }\n",
              "\n",
              "    .dataframe thead th {\n",
              "        text-align: right;\n",
              "    }\n",
              "</style>\n",
              "<table border=\"1\" class=\"dataframe\">\n",
              "  <thead>\n",
              "    <tr style=\"text-align: right;\">\n",
              "      <th></th>\n",
              "      <th>Train Predictions</th>\n",
              "      <th>Actual</th>\n",
              "    </tr>\n",
              "  </thead>\n",
              "  <tbody>\n",
              "    <tr>\n",
              "      <th>0</th>\n",
              "      <td>0.848398</td>\n",
              "      <td>0.528800</td>\n",
              "    </tr>\n",
              "    <tr>\n",
              "      <th>1</th>\n",
              "      <td>1.013625</td>\n",
              "      <td>0.655021</td>\n",
              "    </tr>\n",
              "    <tr>\n",
              "      <th>2</th>\n",
              "      <td>1.264617</td>\n",
              "      <td>0.861409</td>\n",
              "    </tr>\n",
              "    <tr>\n",
              "      <th>3</th>\n",
              "      <td>1.110497</td>\n",
              "      <td>1.136363</td>\n",
              "    </tr>\n",
              "    <tr>\n",
              "      <th>4</th>\n",
              "      <td>0.790923</td>\n",
              "      <td>0.466035</td>\n",
              "    </tr>\n",
              "    <tr>\n",
              "      <th>5</th>\n",
              "      <td>0.002841</td>\n",
              "      <td>0.431400</td>\n",
              "    </tr>\n",
              "    <tr>\n",
              "      <th>6</th>\n",
              "      <td>-0.007192</td>\n",
              "      <td>0.567074</td>\n",
              "    </tr>\n",
              "  </tbody>\n",
              "</table>\n",
              "</div>"
            ],
            "text/plain": [
              "   Train Predictions    Actual\n",
              "0           0.848398  0.528800\n",
              "1           1.013625  0.655021\n",
              "2           1.264617  0.861409\n",
              "3           1.110497  1.136363\n",
              "4           0.790923  0.466035\n",
              "5           0.002841  0.431400\n",
              "6          -0.007192  0.567074"
            ]
          },
          "execution_count": 38,
          "metadata": {},
          "output_type": "execute_result"
        }
      ],
      "source": [
        "# Tabel Perbadingan Hasil Prediksi Dengan Hasil Aktual\n",
        "test_predictions = model.predict(X_test_aceh).flatten()\n",
        "test_results = pd.DataFrame(data={'Train Predictions': test_predictions,\n",
        "                                  'Actual':y_test_aceh.flatten()})\n",
        "test_results"
      ]
    },
    {
      "cell_type": "code",
      "execution_count": 39,
      "metadata": {},
      "outputs": [
        {
          "data": {
            "image/png": "[encoded data removed]",
            "text/plain": [
              "<Figure size 432x288 with 1 Axes>"
            ]
          },
          "metadata": {
            "needs_background": "light"
          },
          "output_type": "display_data"
        }
      ],
      "source": [
        "# Grafik Perbadingan Hasil Prediksi Dengan Hasil Aktual\n",
        "plt.plot(test_results['Train Predictions'][:10], label='Predicted Values')\n",
        "plt.plot(test_results['Actual'][:10], label='True Values')\n",
        "plt.legend()\n",
        "plt.show()"
      ]
    },
    {
      "cell_type": "code",
      "execution_count": 40,
      "metadata": {},
      "outputs": [
        {
          "name": "stdout",
          "output_type": "stream",
          "text": [
            "Test RMSE: 0.38041\n"
          ]
        }
      ],
      "source": [
        "# Menghitung Nilai RMSE\n",
        "rmse = sqrt(mse(y_test_aceh, test_predictions))\n",
        "print('Test RMSE: %.5f' % rmse)"
      ]
    },
    {
      "cell_type": "markdown",
      "metadata": {},
      "source": [
        "### 2.Sumatera Utara"
      ]
    },
    {
      "cell_type": "code",
      "execution_count": 41,
      "metadata": {},
      "outputs": [
        {
          "name": "stderr",
          "output_type": "stream",
          "text": [
            "100%|██████████| 500/500 [00:22<00:00, 22.68epoch/s, loss=0.0228, root_mean_squared_error=0.151, val_loss=0.0981, val_root_mean_squared_error=0.313]\n"
          ]
        }
      ],
      "source": [
        "X_train_aceh, y_train_aceh, X_test_aceh, y_test_aceh = prepare_data_for_lstm(df_copy, 'Sumatera Utara', n_past=3, n_future=1, test_size=7,)\n",
        "model, history = create_lstm_model(X_train_aceh, y_train_aceh, 500)"
      ]
    },
    {
      "cell_type": "code",
      "execution_count": 42,
      "metadata": {},
      "outputs": [
        {
          "name": "stdout",
          "output_type": "stream",
          "text": [
            "1/1 [==============================] - 0s 20ms/step - loss: 2.7946 - root_mean_squared_error: 1.6717\n"
          ]
        },
        {
          "data": {
            "text/plain": [
              "[2.7945587635040283, 1.6716933250427246]"
            ]
          },
          "execution_count": 42,
          "metadata": {},
          "output_type": "execute_result"
        }
      ],
      "source": [
        "model.evaluate(X_test_aceh, y_test_aceh)"
      ]
    },
    {
      "cell_type": "code",
      "execution_count": 43,
      "metadata": {},
      "outputs": [
        {
          "data": {
            "image/png": "[encoded data removed]",
            "text/plain": [
              "<Figure size 432x288 with 1 Axes>"
            ]
          },
          "metadata": {
            "needs_background": "light"
          },
          "output_type": "display_data"
        }
      ],
      "source": [
        "plt.figure()\n",
        "plt.plot(history.history['loss'], label='Training Loss')\n",
        "plt.plot(history.history['val_loss'], label='Validation Loss')\n",
        "plt.title('Training and Validation Loss')\n",
        "plt.xlabel('Epochs')\n",
        "plt.ylabel('Loss')\n",
        "plt.legend()\n",
        "plt.show()"
      ]
    },
    {
      "cell_type": "code",
      "execution_count": 44,
      "metadata": {},
      "outputs": [
        {
          "data": {
            "text/html": [
              "<div>\n",
              "<style scoped>\n",
              "    .dataframe tbody tr th:only-of-type {\n",
              "        vertical-align: middle;\n",
              "    }\n",
              "\n",
              "    .dataframe tbody tr th {\n",
              "        vertical-align: top;\n",
              "    }\n",
              "\n",
              "    .dataframe thead th {\n",
              "        text-align: right;\n",
              "    }\n",
              "</style>\n",
              "<table border=\"1\" class=\"dataframe\">\n",
              "  <thead>\n",
              "    <tr style=\"text-align: right;\">\n",
              "      <th></th>\n",
              "      <th>Train Predictions</th>\n",
              "      <th>Actual</th>\n",
              "    </tr>\n",
              "  </thead>\n",
              "  <tbody>\n",
              "    <tr>\n",
              "      <th>0</th>\n",
              "      <td>0.751667</td>\n",
              "      <td>0.881090</td>\n",
              "    </tr>\n",
              "    <tr>\n",
              "      <th>1</th>\n",
              "      <td>0.797605</td>\n",
              "      <td>1.392512</td>\n",
              "    </tr>\n",
              "    <tr>\n",
              "      <th>2</th>\n",
              "      <td>0.808856</td>\n",
              "      <td>1.815461</td>\n",
              "    </tr>\n",
              "    <tr>\n",
              "      <th>3</th>\n",
              "      <td>0.860351</td>\n",
              "      <td>2.164914</td>\n",
              "    </tr>\n",
              "    <tr>\n",
              "      <th>4</th>\n",
              "      <td>1.029046</td>\n",
              "      <td>-1.000952</td>\n",
              "    </tr>\n",
              "    <tr>\n",
              "      <th>5</th>\n",
              "      <td>1.459734</td>\n",
              "      <td>-1.037268</td>\n",
              "    </tr>\n",
              "    <tr>\n",
              "      <th>6</th>\n",
              "      <td>1.433396</td>\n",
              "      <td>-1.040508</td>\n",
              "    </tr>\n",
              "  </tbody>\n",
              "</table>\n",
              "</div>"
            ],
            "text/plain": [
              "   Train Predictions    Actual\n",
              "0           0.751667  0.881090\n",
              "1           0.797605  1.392512\n",
              "2           0.808856  1.815461\n",
              "3           0.860351  2.164914\n",
              "4           1.029046 -1.000952\n",
              "5           1.459734 -1.037268\n",
              "6           1.433396 -1.040508"
            ]
          },
          "execution_count": 44,
          "metadata": {},
          "output_type": "execute_result"
        }
      ],
      "source": [
        "test_predictions = model.predict(X_test_aceh).flatten()\n",
        "test_results = pd.DataFrame(data={'Train Predictions': test_predictions,\n",
        "                                  'Actual':y_test_aceh.flatten()})\n",
        "test_results"
      ]
    },
    {
      "cell_type": "code",
      "execution_count": 45,
      "metadata": {},
      "outputs": [
        {
          "data": {
            "image/png": "[encoded data removed]",
            "text/plain": [
              "<Figure size 432x288 with 1 Axes>"
            ]
          },
          "metadata": {
            "needs_background": "light"
          },
          "output_type": "display_data"
        }
      ],
      "source": [
        "plt.plot(test_results['Train Predictions'][:10], label='Predicted Values')\n",
        "plt.plot(test_results['Actual'][:10], label='True Values')\n",
        "plt.legend()\n",
        "plt.show()"
      ]
    },
    {
      "cell_type": "code",
      "execution_count": 46,
      "metadata": {},
      "outputs": [
        {
          "name": "stdout",
          "output_type": "stream",
          "text": [
            "Test RMSE: 1.67169\n"
          ]
        }
      ],
      "source": [
        "rmse = sqrt(mse(y_test_aceh, test_predictions))\n",
        "print('Test RMSE: %.5f' % rmse)"
      ]
    }
  ],
  "metadata": {
    "colab": {
      "provenance": []
    },
    "kernelspec": {
      "display_name": "Python 3",
      "name": "python3"
    },
    "language_info": {
      "codemirror_mode": {
        "name": "ipython",
        "version": 3
      },
      "file_extension": ".py",
      "mimetype": "text/x-python",
      "name": "python",
      "nbconvert_exporter": "python",
      "pygments_lexer": "ipython3",
      "version": "3.9.2"
    }
  },
  "nbformat": 4,
  "nbformat_minor": 0
}
